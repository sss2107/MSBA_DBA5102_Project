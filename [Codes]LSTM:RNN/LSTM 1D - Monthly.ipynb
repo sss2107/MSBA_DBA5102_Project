{
 "cells": [
  {
   "cell_type": "code",
   "execution_count": 57,
   "source": [
    "import os\r\n",
    "import pandas as pd\r\n",
    "import numpy as np\r\n",
    "import matplotlib.pyplot as plt\r\n",
    "import seaborn as sns\r\n",
    "import datetime\r\n",
    "from statsmodels.graphics.tsaplots import plot_acf, plot_pacf\r\n",
    "from statsmodels.tsa.stattools import adfuller, kpss\r\n",
    "from statsmodels.tsa.seasonal import seasonal_decompose\r\n",
    "from statsmodels.graphics.tsaplots import plot_acf, plot_pacf\r\n",
    "\r\n",
    "from sklearn.preprocessing import MinMaxScaler\r\n",
    "\r\n",
    "plt.style.use('ggplot')"
   ],
   "outputs": [],
   "metadata": {}
  },
  {
   "cell_type": "markdown",
   "source": [
    "### Import dataset"
   ],
   "metadata": {}
  },
  {
   "cell_type": "code",
   "execution_count": 108,
   "source": [
    "df = pd.read_csv('aggregated_df_final01oct2021.csv')\r\n",
    "#df['time']=df['time'].to_datetime(dayfirst=True).astype(int)\r\n",
    "df[['sentiment_Extreme Fear', 'sentiment_Extreme Greed', 'sentiment_Fear','sentiment_Greed', 'sentiment_Neutral']]=df[['sentiment_Extreme Fear', 'sentiment_Extreme Greed', 'sentiment_Fear','sentiment_Greed', 'sentiment_Neutral']].fillna(0)\r\n",
    "\r\n",
    "df['time'] = pd.to_datetime(df['time'], dayfirst=True)\r\n",
    "df.set_index('time', drop=True, inplace=True)\r\n",
    "df.sort_index(inplace=True)\r\n",
    "df=df.interpolate(method='linear')\r\n",
    "df = df.fillna(method='bfill')\r\n",
    "\r\n",
    "df.head()"
   ],
   "outputs": [
    {
     "output_type": "execute_result",
     "data": {
      "text/html": [
       "<div>\n",
       "<style scoped>\n",
       "    .dataframe tbody tr th:only-of-type {\n",
       "        vertical-align: middle;\n",
       "    }\n",
       "\n",
       "    .dataframe tbody tr th {\n",
       "        vertical-align: top;\n",
       "    }\n",
       "\n",
       "    .dataframe thead th {\n",
       "        text-align: right;\n",
       "    }\n",
       "</style>\n",
       "<table border=\"1\" class=\"dataframe\">\n",
       "  <thead>\n",
       "    <tr style=\"text-align: right;\">\n",
       "      <th></th>\n",
       "      <th>open_x</th>\n",
       "      <th>high_x</th>\n",
       "      <th>low_x</th>\n",
       "      <th>close_x</th>\n",
       "      <th>Basis_x</th>\n",
       "      <th>Volume_x</th>\n",
       "      <th>RSI_x</th>\n",
       "      <th>MACD_x</th>\n",
       "      <th>OnBalanceVolume_x</th>\n",
       "      <th>btc_dom</th>\n",
       "      <th>...</th>\n",
       "      <th>btc_s2f</th>\n",
       "      <th>btc_s2f_price</th>\n",
       "      <th>nlp_compound</th>\n",
       "      <th>nlp_subjectivity</th>\n",
       "      <th>nlp_polarity</th>\n",
       "      <th>sentiment_Extreme Fear</th>\n",
       "      <th>sentiment_Extreme Greed</th>\n",
       "      <th>sentiment_Fear</th>\n",
       "      <th>sentiment_Greed</th>\n",
       "      <th>sentiment_Neutral</th>\n",
       "    </tr>\n",
       "    <tr>\n",
       "      <th>time</th>\n",
       "      <th></th>\n",
       "      <th></th>\n",
       "      <th></th>\n",
       "      <th></th>\n",
       "      <th></th>\n",
       "      <th></th>\n",
       "      <th></th>\n",
       "      <th></th>\n",
       "      <th></th>\n",
       "      <th></th>\n",
       "      <th></th>\n",
       "      <th></th>\n",
       "      <th></th>\n",
       "      <th></th>\n",
       "      <th></th>\n",
       "      <th></th>\n",
       "      <th></th>\n",
       "      <th></th>\n",
       "      <th></th>\n",
       "      <th></th>\n",
       "      <th></th>\n",
       "    </tr>\n",
       "  </thead>\n",
       "  <tbody>\n",
       "    <tr>\n",
       "      <th>2017-08-17</th>\n",
       "      <td>4261.48</td>\n",
       "      <td>4485.39</td>\n",
       "      <td>4200.74</td>\n",
       "      <td>4285.08</td>\n",
       "      <td>4328.539</td>\n",
       "      <td>795.150377</td>\n",
       "      <td>67.858274</td>\n",
       "      <td>8.179071</td>\n",
       "      <td>-1199.888264</td>\n",
       "      <td>57.599479</td>\n",
       "      <td>...</td>\n",
       "      <td>20.219069</td>\n",
       "      <td>3874.856716</td>\n",
       "      <td>0.304444</td>\n",
       "      <td>0.330198</td>\n",
       "      <td>0.104973</td>\n",
       "      <td>0.0</td>\n",
       "      <td>0.0</td>\n",
       "      <td>0.0</td>\n",
       "      <td>0.0</td>\n",
       "      <td>0.0</td>\n",
       "    </tr>\n",
       "    <tr>\n",
       "      <th>2017-08-18</th>\n",
       "      <td>4285.08</td>\n",
       "      <td>4371.52</td>\n",
       "      <td>3938.77</td>\n",
       "      <td>4108.37</td>\n",
       "      <td>4328.539</td>\n",
       "      <td>1199.888264</td>\n",
       "      <td>67.858274</td>\n",
       "      <td>8.179071</td>\n",
       "      <td>-1199.888264</td>\n",
       "      <td>55.505251</td>\n",
       "      <td>...</td>\n",
       "      <td>24.292762</td>\n",
       "      <td>7179.604986</td>\n",
       "      <td>0.275072</td>\n",
       "      <td>0.300219</td>\n",
       "      <td>0.091723</td>\n",
       "      <td>0.0</td>\n",
       "      <td>0.0</td>\n",
       "      <td>0.0</td>\n",
       "      <td>0.0</td>\n",
       "      <td>0.0</td>\n",
       "    </tr>\n",
       "    <tr>\n",
       "      <th>2017-08-19</th>\n",
       "      <td>4108.37</td>\n",
       "      <td>4184.69</td>\n",
       "      <td>3850.00</td>\n",
       "      <td>4139.98</td>\n",
       "      <td>4328.539</td>\n",
       "      <td>381.309763</td>\n",
       "      <td>67.858274</td>\n",
       "      <td>8.179071</td>\n",
       "      <td>-818.578501</td>\n",
       "      <td>54.096402</td>\n",
       "      <td>...</td>\n",
       "      <td>23.973744</td>\n",
       "      <td>6867.689316</td>\n",
       "      <td>0.242156</td>\n",
       "      <td>0.290819</td>\n",
       "      <td>0.059914</td>\n",
       "      <td>0.0</td>\n",
       "      <td>0.0</td>\n",
       "      <td>0.0</td>\n",
       "      <td>0.0</td>\n",
       "      <td>0.0</td>\n",
       "    </tr>\n",
       "    <tr>\n",
       "      <th>2017-08-20</th>\n",
       "      <td>4120.98</td>\n",
       "      <td>4211.08</td>\n",
       "      <td>4032.62</td>\n",
       "      <td>4086.29</td>\n",
       "      <td>4328.539</td>\n",
       "      <td>467.083022</td>\n",
       "      <td>67.858274</td>\n",
       "      <td>8.179071</td>\n",
       "      <td>-1285.661523</td>\n",
       "      <td>53.881711</td>\n",
       "      <td>...</td>\n",
       "      <td>27.849165</td>\n",
       "      <td>11362.321705</td>\n",
       "      <td>0.219211</td>\n",
       "      <td>0.256419</td>\n",
       "      <td>0.122539</td>\n",
       "      <td>0.0</td>\n",
       "      <td>0.0</td>\n",
       "      <td>0.0</td>\n",
       "      <td>0.0</td>\n",
       "      <td>0.0</td>\n",
       "    </tr>\n",
       "    <tr>\n",
       "      <th>2017-08-21</th>\n",
       "      <td>4069.13</td>\n",
       "      <td>4119.62</td>\n",
       "      <td>3911.79</td>\n",
       "      <td>4016.00</td>\n",
       "      <td>4328.539</td>\n",
       "      <td>691.743060</td>\n",
       "      <td>67.858274</td>\n",
       "      <td>8.179071</td>\n",
       "      <td>-1977.404583</td>\n",
       "      <td>52.805377</td>\n",
       "      <td>...</td>\n",
       "      <td>31.484405</td>\n",
       "      <td>17159.277080</td>\n",
       "      <td>0.356947</td>\n",
       "      <td>0.277829</td>\n",
       "      <td>0.092228</td>\n",
       "      <td>0.0</td>\n",
       "      <td>0.0</td>\n",
       "      <td>0.0</td>\n",
       "      <td>0.0</td>\n",
       "      <td>0.0</td>\n",
       "    </tr>\n",
       "  </tbody>\n",
       "</table>\n",
       "<p>5 rows × 29 columns</p>\n",
       "</div>"
      ],
      "text/plain": [
       "             open_x   high_x    low_x  close_x   Basis_x     Volume_x  \\\n",
       "time                                                                    \n",
       "2017-08-17  4261.48  4485.39  4200.74  4285.08  4328.539   795.150377   \n",
       "2017-08-18  4285.08  4371.52  3938.77  4108.37  4328.539  1199.888264   \n",
       "2017-08-19  4108.37  4184.69  3850.00  4139.98  4328.539   381.309763   \n",
       "2017-08-20  4120.98  4211.08  4032.62  4086.29  4328.539   467.083022   \n",
       "2017-08-21  4069.13  4119.62  3911.79  4016.00  4328.539   691.743060   \n",
       "\n",
       "                RSI_x    MACD_x  OnBalanceVolume_x    btc_dom  ...    btc_s2f  \\\n",
       "time                                                           ...              \n",
       "2017-08-17  67.858274  8.179071       -1199.888264  57.599479  ...  20.219069   \n",
       "2017-08-18  67.858274  8.179071       -1199.888264  55.505251  ...  24.292762   \n",
       "2017-08-19  67.858274  8.179071        -818.578501  54.096402  ...  23.973744   \n",
       "2017-08-20  67.858274  8.179071       -1285.661523  53.881711  ...  27.849165   \n",
       "2017-08-21  67.858274  8.179071       -1977.404583  52.805377  ...  31.484405   \n",
       "\n",
       "            btc_s2f_price  nlp_compound  nlp_subjectivity  nlp_polarity  \\\n",
       "time                                                                      \n",
       "2017-08-17    3874.856716      0.304444          0.330198      0.104973   \n",
       "2017-08-18    7179.604986      0.275072          0.300219      0.091723   \n",
       "2017-08-19    6867.689316      0.242156          0.290819      0.059914   \n",
       "2017-08-20   11362.321705      0.219211          0.256419      0.122539   \n",
       "2017-08-21   17159.277080      0.356947          0.277829      0.092228   \n",
       "\n",
       "            sentiment_Extreme Fear  sentiment_Extreme Greed  sentiment_Fear  \\\n",
       "time                                                                          \n",
       "2017-08-17                     0.0                      0.0             0.0   \n",
       "2017-08-18                     0.0                      0.0             0.0   \n",
       "2017-08-19                     0.0                      0.0             0.0   \n",
       "2017-08-20                     0.0                      0.0             0.0   \n",
       "2017-08-21                     0.0                      0.0             0.0   \n",
       "\n",
       "            sentiment_Greed  sentiment_Neutral  \n",
       "time                                            \n",
       "2017-08-17              0.0                0.0  \n",
       "2017-08-18              0.0                0.0  \n",
       "2017-08-19              0.0                0.0  \n",
       "2017-08-20              0.0                0.0  \n",
       "2017-08-21              0.0                0.0  \n",
       "\n",
       "[5 rows x 29 columns]"
      ]
     },
     "metadata": {},
     "execution_count": 108
    }
   ],
   "metadata": {}
  },
  {
   "cell_type": "code",
   "execution_count": 109,
   "source": [
    "df = df['close_x']\r\n",
    "df.head()"
   ],
   "outputs": [
    {
     "output_type": "execute_result",
     "data": {
      "text/plain": [
       "time\n",
       "2017-08-17    4285.08\n",
       "2017-08-18    4108.37\n",
       "2017-08-19    4139.98\n",
       "2017-08-20    4086.29\n",
       "2017-08-21    4016.00\n",
       "Name: close_x, dtype: float64"
      ]
     },
     "metadata": {},
     "execution_count": 109
    }
   ],
   "metadata": {}
  },
  {
   "cell_type": "code",
   "execution_count": 110,
   "source": [
    "def take_last(array_like):\r\n",
    "    return array_like[-1]\r\n",
    "    \r\n",
    "df = df.resample('M').agg({'close_x': take_last})\r\n",
    "df = df.droplevel(0)\r\n",
    "df[0:5]"
   ],
   "outputs": [
    {
     "output_type": "execute_result",
     "data": {
      "text/plain": [
       "time\n",
       "2017-08-31     4724.890000\n",
       "2017-09-30     4378.510000\n",
       "2017-10-31     6386.600001\n",
       "2017-11-30     9827.111193\n",
       "2017-12-31    13324.680001\n",
       "Freq: M, Name: close_x, dtype: float64"
      ]
     },
     "metadata": {},
     "execution_count": 110
    }
   ],
   "metadata": {}
  },
  {
   "cell_type": "markdown",
   "source": [
    "### EDA\r\n",
    "- Closing price boxplot\r\n",
    "- ACF and PACF\r\n",
    "- Stationarity check (mean and variance)\r\n",
    "    - ADF test\r\n",
    "    - KSS test"
   ],
   "metadata": {}
  },
  {
   "cell_type": "code",
   "execution_count": 111,
   "source": [
    "mean = [np.mean(df.values[:x]) for x in range(df.shape[0])]\r\n",
    "plt.figure(figsize=(18,4))\r\n",
    "sns.lineplot(x=df.index ,y=df, label='BTC-USD', ci='sd')\r\n",
    "sns.lineplot(x=df.index, y=mean, label='Mean', ci=None)\r\n",
    "plt.title('BTC close price - Full dataset')\r\n",
    "plt.ylabel('Closing price [USD]')\r\n",
    "plt.xlabel('Date')\r\n",
    "plt.show()"
   ],
   "outputs": [
    {
     "output_type": "stream",
     "name": "stderr",
     "text": [
      "D:\\anaconda3\\lib\\site-packages\\numpy\\core\\fromnumeric.py:3372: RuntimeWarning:\n",
      "\n",
      "Mean of empty slice.\n",
      "\n",
      "D:\\anaconda3\\lib\\site-packages\\numpy\\core\\_methods.py:170: RuntimeWarning:\n",
      "\n",
      "invalid value encountered in double_scalars\n",
      "\n"
     ]
    },
    {
     "output_type": "display_data",
     "data": {
      "image/png": "[encoded data removed]",
      "text/plain": [
       "<Figure size 1296x288 with 1 Axes>"
      ]
     },
     "metadata": {}
    }
   ],
   "metadata": {}
  },
  {
   "cell_type": "markdown",
   "source": [
    "From this we can see that the data is not stationary, as both the mean and the variance are increasing over time."
   ],
   "metadata": {}
  },
  {
   "cell_type": "code",
   "execution_count": 116,
   "source": [
    "plt.figure(figsize=(12,6))\r\n",
    "sns.boxplot(df)\r\n",
    "plt.title('BTC close price boxplot - Full dataset')\r\n",
    "plt.show()"
   ],
   "outputs": [
    {
     "output_type": "stream",
     "name": "stderr",
     "text": [
      "D:\\anaconda3\\lib\\site-packages\\seaborn\\_decorators.py:36: FutureWarning:\n",
      "\n",
      "Pass the following variable as a keyword arg: x. From version 0.12, the only valid positional argument will be `data`, and passing other arguments without an explicit keyword will result in an error or misinterpretation.\n",
      "\n"
     ]
    },
    {
     "output_type": "display_data",
     "data": {
      "image/png": "[encoded data removed]",
      "text/plain": [
       "<Figure size 864x432 with 1 Axes>"
      ]
     },
     "metadata": {}
    }
   ],
   "metadata": {}
  },
  {
   "cell_type": "markdown",
   "source": [
    "### __Preprocessing__\r\n",
    "- Train/test split\r\n",
    "- Stationarity check (mean and variance)\r\n",
    "    - Seasonal decompose of train\r\n",
    "    - ADF test\r\n",
    "    - KSS test\r\n",
    "- Stationarity transformation\r\n",
    "- LSTM data transformation"
   ],
   "metadata": {}
  },
  {
   "cell_type": "markdown",
   "source": [
    "#### Train/Test split"
   ],
   "metadata": {}
  },
  {
   "cell_type": "code",
   "execution_count": 144,
   "source": [
    "# Train/Test split\r\n",
    "\r\n",
    "# Number of periods to incluse in validation split\r\n",
    "val_periods = 10\r\n",
    "\r\n",
    "df_train = df[:df.shape[0]-val_periods]\r\n",
    "df_val = df[df.shape[0]-val_periods:]\r\n",
    "\r\n",
    "print('Train shape', df_train.shape)\r\n",
    "print('Validation shape', df_val.shape)"
   ],
   "outputs": [
    {
     "output_type": "stream",
     "name": "stdout",
     "text": [
      "Train shape (40,)\n",
      "Validation shape (10,)\n"
     ]
    }
   ],
   "metadata": {}
  },
  {
   "cell_type": "code",
   "execution_count": 145,
   "source": [
    "plt.figure(figsize=(18,4))\r\n",
    "sns.lineplot(data=df_train, color='black', label = 'Train set', ci='sd')\r\n",
    "sns.lineplot(data=df_val, color='red', label='Validation set', ci='sd')\r\n",
    "plt.title('BTC Close price validation and training sets')\r\n",
    "plt.show()"
   ],
   "outputs": [
    {
     "output_type": "display_data",
     "data": {
      "image/png": "[encoded data removed]",
      "text/plain": [
       "<Figure size 1296x288 with 1 Axes>"
      ]
     },
     "metadata": {}
    }
   ],
   "metadata": {}
  },
  {
   "cell_type": "markdown",
   "source": [
    "#### Min Max Scaling"
   ],
   "metadata": {}
  },
  {
   "cell_type": "code",
   "execution_count": 146,
   "source": [
    "scaler = MinMaxScaler()\r\n",
    "df_train_scaled = scaler.fit_transform(df_train.values.reshape(-1,1))\r\n",
    "df_train_scaled.shape"
   ],
   "outputs": [
    {
     "output_type": "execute_result",
     "data": {
      "text/plain": [
       "(40, 1)"
      ]
     },
     "metadata": {},
     "execution_count": 146
    }
   ],
   "metadata": {}
  },
  {
   "cell_type": "code",
   "execution_count": 147,
   "source": [
    "# Head and tail of scaled dataset\r\n",
    "df_train_scaled"
   ],
   "outputs": [
    {
     "output_type": "execute_result",
     "data": {
      "text/plain": [
       "array([[0.07933714],\n",
       "       [0.05803588],\n",
       "       [0.18152702],\n",
       "       [0.39310751],\n",
       "       [0.60819686],\n",
       "       [0.41967037],\n",
       "       [0.42301149],\n",
       "       [0.21463414],\n",
       "       [0.35651037],\n",
       "       [0.24881873],\n",
       "       [0.18194814],\n",
       "       [0.26430728],\n",
       "       [0.22023213],\n",
       "       [0.19593173],\n",
       "       [0.18068339],\n",
       "       [0.03724801],\n",
       "       [0.01635186],\n",
       "       [0.        ],\n",
       "       [0.02337627],\n",
       "       [0.04114362],\n",
       "       [0.11594712],\n",
       "       [0.31489517],\n",
       "       [0.45555684],\n",
       "       [0.40857112],\n",
       "       [0.37827594],\n",
       "       [0.2984829 ],\n",
       "       [0.35092769],\n",
       "       [0.25266316],\n",
       "       [0.23128194],\n",
       "       [0.36385863],\n",
       "       [0.31305364],\n",
       "       [0.18297896],\n",
       "       [0.31912922],\n",
       "       [0.36988977],\n",
       "       [0.35071014],\n",
       "       [0.48591105],\n",
       "       [0.50525103],\n",
       "       [0.45152249],\n",
       "       [0.63685407],\n",
       "       [1.        ]])"
      ]
     },
     "metadata": {},
     "execution_count": 147
    }
   ],
   "metadata": {}
  },
  {
   "cell_type": "markdown",
   "source": [
    "#### Reshaping"
   ],
   "metadata": {}
  },
  {
   "cell_type": "code",
   "execution_count": 218,
   "source": [
    "# Transforms the original time series into the input formar required by the LSTM model\r\n",
    "\r\n",
    "nb_timesteps = 2\r\n",
    "\r\n",
    "def makeXy(ts, nb_timesteps, features='itself'): \r\n",
    "    \"\"\" \r\n",
    "    Input:  \r\n",
    "           ts: original scaled time series \r\n",
    "           nb_timesteps: number of time steps in the regressors \r\n",
    "           features: itself == use the previous values of the label only\r\n",
    "                     all == use previous values of all avaialable data\r\n",
    "    Output:  \r\n",
    "           X: 2-D array of regressors \r\n",
    "           y: 1-D array of target  \r\n",
    "   \"\"\"\r\n",
    "    x_train = []\r\n",
    "    y_train = []\r\n",
    "\r\n",
    "    for i in range(nb_timesteps, ts.shape[0]):\r\n",
    "        if features == 'itself':\r\n",
    "            x_train.append(ts[i-nb_timesteps:i,-1])\r\n",
    "        else:\r\n",
    "            x_train.append(ts[i-nb_timesteps:i, 0:])\r\n",
    "        y_train.append(ts[i, -1])\r\n",
    "\r\n",
    "    x_train, y_train = np.array(x_train), np.array(y_train)\r\n",
    "    return x_train, y_train "
   ],
   "outputs": [],
   "metadata": {}
  },
  {
   "cell_type": "code",
   "execution_count": 219,
   "source": [
    "# Reshape training data into (samples, timestamp, features)\r\n",
    "\r\n",
    "X_train, y_train = makeXy(df_train_scaled, nb_timesteps)\r\n",
    "print('Train dataset shape:', X_train.shape, y_train.shape)\r\n",
    "X_train = np.reshape(X_train, (X_train.shape[0], X_train.shape[1], 1))\r\n",
    "X_train.shape"
   ],
   "outputs": [
    {
     "output_type": "stream",
     "name": "stdout",
     "text": [
      "Train dataset shape: (38, 2) (38,)\n"
     ]
    },
    {
     "output_type": "execute_result",
     "data": {
      "text/plain": [
       "(38, 2, 1)"
      ]
     },
     "metadata": {},
     "execution_count": 219
    }
   ],
   "metadata": {}
  },
  {
   "cell_type": "code",
   "execution_count": 220,
   "source": [
    "# Reshape validation data\r\n",
    "data = pd.concat([df_train, df_val], axis=0)\r\n",
    "data.reset_index(inplace=True, drop=True)\r\n",
    "\r\n",
    "val_inputs = data[df_train_scaled.shape[0]-nb_timesteps:].values\r\n",
    "#val_inputs.reshape(-1,1)\r\n",
    "# Scale validation inputs\r\n",
    "val_inputs = scaler.transform(val_inputs.reshape(-1,1))\r\n",
    "\r\n",
    "X_val, y_val = makeXy(val_inputs, nb_timesteps)\r\n",
    "print('Train dataset shape:', X_val.shape, y_val.shape)\r\n",
    "X_val = np.reshape(X_val, (X_val.shape[0], X_val.shape[1], 1))\r\n",
    "X_val.shape"
   ],
   "outputs": [
    {
     "output_type": "stream",
     "name": "stdout",
     "text": [
      "Train dataset shape: (10, 2) (10,)\n"
     ]
    },
    {
     "output_type": "execute_result",
     "data": {
      "text/plain": [
       "(10, 2, 1)"
      ]
     },
     "metadata": {},
     "execution_count": 220
    }
   ],
   "metadata": {}
  },
  {
   "cell_type": "markdown",
   "source": [
    "### LSTM Model"
   ],
   "metadata": {}
  },
  {
   "cell_type": "code",
   "execution_count": 221,
   "source": [
    "from keras.models import Sequential\r\n",
    "from keras.layers import LSTM, Dense, Dropout, InputLayer\r\n",
    "from keras.callbacks import Callback, EarlyStopping, ModelCheckpoint"
   ],
   "outputs": [],
   "metadata": {}
  },
  {
   "cell_type": "code",
   "execution_count": 244,
   "source": [
    "# Define LSTM Neural Network\r\n",
    "regressor = Sequential()\r\n",
    "\r\n",
    "regressor.add(InputLayer(input_shape=(X_train.shape[1], X_train.shape[2])))\r\n",
    "regressor.add(LSTM(units=100, return_sequences=True, ))\r\n",
    "regressor.add(Dropout(rate=0.3))\r\n",
    "regressor.add(LSTM(units=100, return_sequences=True))\r\n",
    "regressor.add(Dropout(rate=0.3))\r\n",
    "regressor.add(LSTM(units=75, return_sequences=True))\r\n",
    "regressor.add(Dropout(rate = 0.2))\r\n",
    "regressor.add(LSTM(units=50))\r\n",
    "regressor.add(Dropout(rate = 0.2))\r\n",
    "regressor.add(Dense(units=1))\r\n",
    "\r\n",
    "\r\n",
    "regressor.summary()"
   ],
   "outputs": [
    {
     "output_type": "stream",
     "name": "stdout",
     "text": [
      "Model: \"sequential_10\"\n",
      "_________________________________________________________________\n",
      "Layer (type)                 Output Shape              Param #   \n",
      "=================================================================\n",
      "lstm_40 (LSTM)               (None, 2, 100)            40800     \n",
      "_________________________________________________________________\n",
      "dropout_40 (Dropout)         (None, 2, 100)            0         \n",
      "_________________________________________________________________\n",
      "lstm_41 (LSTM)               (None, 2, 100)            80400     \n",
      "_________________________________________________________________\n",
      "dropout_41 (Dropout)         (None, 2, 100)            0         \n",
      "_________________________________________________________________\n",
      "lstm_42 (LSTM)               (None, 2, 75)             52800     \n",
      "_________________________________________________________________\n",
      "dropout_42 (Dropout)         (None, 2, 75)             0         \n",
      "_________________________________________________________________\n",
      "lstm_43 (LSTM)               (None, 50)                25200     \n",
      "_________________________________________________________________\n",
      "dropout_43 (Dropout)         (None, 50)                0         \n",
      "_________________________________________________________________\n",
      "dense_10 (Dense)             (None, 1)                 51        \n",
      "=================================================================\n",
      "Total params: 199,251\n",
      "Trainable params: 199,251\n",
      "Non-trainable params: 0\n",
      "_________________________________________________________________\n"
     ]
    }
   ],
   "metadata": {}
  },
  {
   "cell_type": "code",
   "execution_count": 245,
   "source": [
    "# Create directory to save model\r\n",
    "!mkdir \"keras_models_lstm1D_monthly\""
   ],
   "outputs": [
    {
     "output_type": "stream",
     "name": "stderr",
     "text": [
      "A subdirectory or file keras_models_lstm1D_monthly already exists.\n"
     ]
    }
   ],
   "metadata": {}
  },
  {
   "cell_type": "code",
   "execution_count": 246,
   "source": [
    "# Fit and save best parameters of model\r\n",
    "epoch = 50\r\n",
    "\r\n",
    "# Compiler and loss function\r\n",
    "regressor.compile(loss='mean_squared_error', optimizer='adam')\r\n",
    "\r\n",
    "# Model Checkpoint\r\n",
    "model_folder ='keras_models_lstm1D'\r\n",
    "model_file = 'BTC_close_price_lstm_weights.hdf5'\r\n",
    "save_weights_at = os.path.join(model_folder, model_file) \r\n",
    "save_best = ModelCheckpoint(save_weights_at, monitor='val_loss', verbose=0, \r\n",
    "                            save_best_only=True, save_weights_only=False, mode='min', \r\n",
    "                            save_freq='epoch') \r\n",
    "# Fit model\r\n",
    "regressor.fit(x=X_train, y=y_train, batch_size=32, epochs=epoch, \r\n",
    "             verbose=1, callbacks=[save_best], validation_data=(X_val, y_val), \r\n",
    "             shuffle=True) "
   ],
   "outputs": [
    {
     "output_type": "stream",
     "name": "stdout",
     "text": [
      "Epoch 1/50\n",
      "2/2 [==============================] - 1s 636ms/step - loss: 0.1326 - val_loss: 6.1865\n",
      "Epoch 2/50\n",
      "2/2 [==============================] - 0s 56ms/step - loss: 0.1243 - val_loss: 6.0928\n",
      "Epoch 3/50\n",
      "2/2 [==============================] - 0s 49ms/step - loss: 0.1153 - val_loss: 5.9831\n",
      "Epoch 4/50\n",
      "2/2 [==============================] - 0s 55ms/step - loss: 0.1065 - val_loss: 5.8493\n",
      "Epoch 5/50\n",
      "2/2 [==============================] - 0s 45ms/step - loss: 0.0954 - val_loss: 5.6831\n",
      "Epoch 6/50\n",
      "2/2 [==============================] - 0s 58ms/step - loss: 0.0843 - val_loss: 5.4708\n",
      "Epoch 7/50\n",
      "2/2 [==============================] - 0s 49ms/step - loss: 0.0723 - val_loss: 5.1991\n",
      "Epoch 8/50\n",
      "2/2 [==============================] - 0s 57ms/step - loss: 0.0597 - val_loss: 4.8518\n",
      "Epoch 9/50\n",
      "2/2 [==============================] - 0s 41ms/step - loss: 0.0508 - val_loss: 4.4128\n",
      "Epoch 10/50\n",
      "2/2 [==============================] - 0s 45ms/step - loss: 0.0389 - val_loss: 3.8858\n",
      "Epoch 11/50\n",
      "2/2 [==============================] - 0s 106ms/step - loss: 0.0324 - val_loss: 3.3474\n",
      "Epoch 12/50\n",
      "2/2 [==============================] - 0s 37ms/step - loss: 0.0345 - val_loss: 2.9422\n",
      "Epoch 13/50\n",
      "2/2 [==============================] - 0s 42ms/step - loss: 0.0445 - val_loss: 2.8822\n",
      "Epoch 14/50\n",
      "2/2 [==============================] - 0s 9ms/step - loss: 0.0381 - val_loss: 3.0598\n",
      "Epoch 15/50\n",
      "2/2 [==============================] - 0s 9ms/step - loss: 0.0372 - val_loss: 3.3011\n",
      "Epoch 16/50\n",
      "2/2 [==============================] - 0s 9ms/step - loss: 0.0386 - val_loss: 3.5327\n",
      "Epoch 17/50\n",
      "2/2 [==============================] - 0s 9ms/step - loss: 0.0363 - val_loss: 3.6637\n",
      "Epoch 18/50\n",
      "2/2 [==============================] - 0s 9ms/step - loss: 0.0320 - val_loss: 3.7606\n",
      "Epoch 19/50\n",
      "2/2 [==============================] - 0s 9ms/step - loss: 0.0343 - val_loss: 3.8670\n",
      "Epoch 20/50\n",
      "2/2 [==============================] - 0s 9ms/step - loss: 0.0334 - val_loss: 3.9335\n",
      "Epoch 21/50\n",
      "2/2 [==============================] - 0s 9ms/step - loss: 0.0385 - val_loss: 3.9364\n",
      "Epoch 22/50\n",
      "2/2 [==============================] - 0s 9ms/step - loss: 0.0344 - val_loss: 3.8635\n",
      "Epoch 23/50\n",
      "2/2 [==============================] - 0s 9ms/step - loss: 0.0319 - val_loss: 3.7450\n",
      "Epoch 24/50\n",
      "2/2 [==============================] - 0s 8ms/step - loss: 0.0308 - val_loss: 3.6137\n",
      "Epoch 25/50\n",
      "2/2 [==============================] - 0s 9ms/step - loss: 0.0304 - val_loss: 3.4942\n",
      "Epoch 26/50\n",
      "2/2 [==============================] - 0s 8ms/step - loss: 0.0324 - val_loss: 3.3925\n",
      "Epoch 27/50\n",
      "2/2 [==============================] - 0s 9ms/step - loss: 0.0320 - val_loss: 3.2853\n",
      "Epoch 28/50\n",
      "2/2 [==============================] - 0s 8ms/step - loss: 0.0347 - val_loss: 3.1933\n",
      "Epoch 29/50\n",
      "2/2 [==============================] - 0s 9ms/step - loss: 0.0336 - val_loss: 3.1403\n",
      "Epoch 30/50\n",
      "2/2 [==============================] - 0s 12ms/step - loss: 0.0317 - val_loss: 3.1183\n",
      "Epoch 31/50\n",
      "2/2 [==============================] - 0s 10ms/step - loss: 0.0313 - val_loss: 3.0847\n",
      "Epoch 32/50\n",
      "2/2 [==============================] - 0s 9ms/step - loss: 0.0302 - val_loss: 3.0389\n",
      "Epoch 33/50\n",
      "2/2 [==============================] - 0s 8ms/step - loss: 0.0301 - val_loss: 2.9783\n",
      "Epoch 34/50\n",
      "2/2 [==============================] - 0s 9ms/step - loss: 0.0294 - val_loss: 2.8842\n",
      "Epoch 35/50\n",
      "2/2 [==============================] - 0s 78ms/step - loss: 0.0303 - val_loss: 2.7189\n",
      "Epoch 36/50\n",
      "2/2 [==============================] - 0s 44ms/step - loss: 0.0268 - val_loss: 2.4844\n",
      "Epoch 37/50\n",
      "2/2 [==============================] - 0s 49ms/step - loss: 0.0314 - val_loss: 2.2863\n",
      "Epoch 38/50\n",
      "2/2 [==============================] - 0s 47ms/step - loss: 0.0239 - val_loss: 2.1559\n",
      "Epoch 39/50\n",
      "2/2 [==============================] - 0s 60ms/step - loss: 0.0298 - val_loss: 2.0032\n",
      "Epoch 40/50\n",
      "2/2 [==============================] - 0s 40ms/step - loss: 0.0292 - val_loss: 1.8487\n",
      "Epoch 41/50\n",
      "2/2 [==============================] - 0s 38ms/step - loss: 0.0255 - val_loss: 1.7941\n",
      "Epoch 42/50\n",
      "2/2 [==============================] - 0s 44ms/step - loss: 0.0315 - val_loss: 1.7909\n",
      "Epoch 43/50\n",
      "2/2 [==============================] - 0s 9ms/step - loss: 0.0282 - val_loss: 1.8424\n",
      "Epoch 44/50\n",
      "2/2 [==============================] - 0s 8ms/step - loss: 0.0285 - val_loss: 1.9000\n",
      "Epoch 45/50\n",
      "2/2 [==============================] - 0s 9ms/step - loss: 0.0275 - val_loss: 1.9027\n",
      "Epoch 46/50\n",
      "2/2 [==============================] - 0s 9ms/step - loss: 0.0275 - val_loss: 1.8481\n",
      "Epoch 47/50\n",
      "2/2 [==============================] - 0s 31ms/step - loss: 0.0300 - val_loss: 1.6570\n",
      "Epoch 48/50\n",
      "2/2 [==============================] - 0s 41ms/step - loss: 0.0265 - val_loss: 1.3037\n",
      "Epoch 49/50\n",
      "2/2 [==============================] - 0s 43ms/step - loss: 0.0269 - val_loss: 0.9734\n",
      "Epoch 50/50\n",
      "2/2 [==============================] - 0s 43ms/step - loss: 0.0273 - val_loss: 0.7731\n"
     ]
    },
    {
     "output_type": "execute_result",
     "data": {
      "text/plain": [
       "<tensorflow.python.keras.callbacks.History at 0x240c147fd90>"
      ]
     },
     "metadata": {},
     "execution_count": 246
    }
   ],
   "metadata": {}
  },
  {
   "cell_type": "code",
   "execution_count": 247,
   "source": [
    "regressor.load_weights(model_folder + '\\\\' + 'BTC_close_price_lstm_weights.hdf5') \r\n",
    "# Validation predict\r\n",
    "predicted_price = regressor.predict(X_val)\r\n",
    "predicted_price = scaler.inverse_transform(predicted_price)\r\n",
    "predicted_price = predicted_price.reshape(X_val.shape[0])\r\n",
    "\r\n",
    "# Train predict\r\n",
    "predicted_price_train = regressor.predict(X_train)\r\n",
    "predicted_price_train = scaler.inverse_transform(predicted_price_train)\r\n",
    "predicted_price_train = predicted_price_train.reshape(X_train.shape[0])"
   ],
   "outputs": [
    {
     "output_type": "stream",
     "name": "stdout",
     "text": [
      "WARNING:tensorflow:5 out of the last 13 calls to <function Model.make_predict_function.<locals>.predict_function at 0x00000240CCC685E0> triggered tf.function retracing. Tracing is expensive and the excessive number of tracings could be due to (1) creating @tf.function repeatedly in a loop, (2) passing tensors with different shapes, (3) passing Python objects instead of tensors. For (1), please define your @tf.function outside of the loop. For (2), @tf.function has experimental_relax_shapes=True option that relaxes argument shapes that can avoid unnecessary retracing. For (3), please refer to https://www.tensorflow.org/tutorials/customization/performance#python_or_tensor_args and https://www.tensorflow.org/api_docs/python/tf/function for  more details.\n"
     ]
    }
   ],
   "metadata": {}
  },
  {
   "cell_type": "code",
   "execution_count": 248,
   "source": [
    "from sklearn.metrics import mean_squared_error, mean_absolute_percentage_error\r\n",
    "print('Train RMSE:')\r\n",
    "train_mape = mean_absolute_percentage_error(df_train[:df_train.shape[0]-nb_timesteps],predicted_price_train)\r\n",
    "print(train_mape)\r\n",
    "train_rmse = np.sqrt(np.mean(np.square(df_train[:df_train.shape[0]-nb_timesteps]-predicted_price_train)))\r\n",
    "print(train_rmse)\r\n",
    "\r\n",
    "print('Validation RMSE:')\r\n",
    "test_mape = mean_absolute_percentage_error(df_val,predicted_price)\r\n",
    "print(test_mape)\r\n",
    "test_rmse = np.sqrt(np.mean(np.square(df_val-predicted_price)))\r\n",
    "test_rmse"
   ],
   "outputs": [
    {
     "output_type": "stream",
     "name": "stdout",
     "text": [
      "Train RMSE:\n",
      "0.27819589001183936\n",
      "1830.1896224975626\n",
      "Validation RMSE:\n",
      "0.31227432323638105\n"
     ]
    },
    {
     "output_type": "execute_result",
     "data": {
      "text/plain": [
       "14297.394942505445"
      ]
     },
     "metadata": {},
     "execution_count": 248
    }
   ],
   "metadata": {}
  },
  {
   "cell_type": "code",
   "execution_count": 249,
   "source": [
    "import plotly.express as px\r\n",
    "train_results = pd.DataFrame(df_train[:df_train.shape[0]-nb_timesteps])\r\n",
    "train_results['train_pred'] = predicted_price_train\r\n",
    "px.line(train_results, \r\n",
    "        title='<span style=\"color:#012888;font-weight:bold\">BTC-USD Close price prediction - Training data \\\r\n",
    "        <br><span style=\"font-size: 13px;color:#444444;\">Train RMSE: {:.1f} <br>Train MAPE: {:.1%}</span>'.format(train_rmse, train_mape ))"
   ],
   "outputs": [
    {
     "output_type": "display_data",
     "data": {
      "application/vnd.plotly.v1+json": {
       "config": {
        "plotlyServerURL": "https://plot.ly"
       },
       "data": [
        {
         "hovertemplate": "variable=close_x<br>time=%{x}<br>value=%{y}<extra></extra>",
         "legendgroup": "close_x",
         "line": {
          "color": "#636efa",
          "dash": "solid"
         },
         "mode": "lines",
         "name": "close_x",
         "orientation": "v",
         "showlegend": true,
         "type": "scatter",
         "x": [
          "2017-08-31T00:00:00",
          "2017-09-30T00:00:00",
          "2017-10-31T00:00:00",
          "2017-11-30T00:00:00",
          "2017-12-31T00:00:00",
          "2018-01-31T00:00:00",
          "2018-02-28T00:00:00",
          "2018-03-31T00:00:00",
          "2018-04-30T00:00:00",
          "2018-05-31T00:00:00",
          "2018-06-30T00:00:00",
          "2018-07-31T00:00:00",
          "2018-08-31T00:00:00",
          "2018-09-30T00:00:00",
          "2018-10-31T00:00:00",
          "2018-11-30T00:00:00",
          "2018-12-31T00:00:00",
          "2019-01-31T00:00:00",
          "2019-02-28T00:00:00",
          "2019-03-31T00:00:00",
          "2019-04-30T00:00:00",
          "2019-05-31T00:00:00",
          "2019-06-30T00:00:00",
          "2019-07-31T00:00:00",
          "2019-08-31T00:00:00",
          "2019-09-30T00:00:00",
          "2019-10-31T00:00:00",
          "2019-11-30T00:00:00",
          "2019-12-31T00:00:00",
          "2020-01-31T00:00:00",
          "2020-02-29T00:00:00",
          "2020-03-31T00:00:00",
          "2020-04-30T00:00:00",
          "2020-05-31T00:00:00",
          "2020-06-30T00:00:00",
          "2020-07-31T00:00:00",
          "2020-08-31T00:00:00",
          "2020-09-30T00:00:00"
         ],
         "xaxis": "x",
         "y": [
          4724.89,
          4378.51,
          6386.6000005000005,
          9827.1111925,
          13324.680001,
          10259.05,
          10313.3799995,
          6924.955,
          9232.005,
          7480.830865,
          6393.447897,
          7732.690164,
          7015.984044,
          6620.8350025,
          6372.8816725,
          4040.4784135,
          3700.6861095,
          3434.7883970000003,
          3814.91003795,
          4103.825,
          5320.205,
          8555.3,
          10842.6,
          10078.565,
          9585.935,
          8288.42,
          9141.225,
          7543.345,
          7195.665,
          9351.495,
          8525.355,
          6410.209999999999,
          8624.15,
          9449.5675,
          9137.6875,
          11336.19,
          11650.677500000002,
          10776.9975
         ],
         "yaxis": "y"
        },
        {
         "hovertemplate": "variable=train_pred<br>time=%{x}<br>value=%{y}<extra></extra>",
         "legendgroup": "train_pred",
         "line": {
          "color": "#EF553B",
          "dash": "solid"
         },
         "mode": "lines",
         "name": "train_pred",
         "orientation": "v",
         "showlegend": true,
         "type": "scatter",
         "x": [
          "2017-08-31T00:00:00",
          "2017-09-30T00:00:00",
          "2017-10-31T00:00:00",
          "2017-11-30T00:00:00",
          "2017-12-31T00:00:00",
          "2018-01-31T00:00:00",
          "2018-02-28T00:00:00",
          "2018-03-31T00:00:00",
          "2018-04-30T00:00:00",
          "2018-05-31T00:00:00",
          "2018-06-30T00:00:00",
          "2018-07-31T00:00:00",
          "2018-08-31T00:00:00",
          "2018-09-30T00:00:00",
          "2018-10-31T00:00:00",
          "2018-11-30T00:00:00",
          "2018-12-31T00:00:00",
          "2019-01-31T00:00:00",
          "2019-02-28T00:00:00",
          "2019-03-31T00:00:00",
          "2019-04-30T00:00:00",
          "2019-05-31T00:00:00",
          "2019-06-30T00:00:00",
          "2019-07-31T00:00:00",
          "2019-08-31T00:00:00",
          "2019-09-30T00:00:00",
          "2019-10-31T00:00:00",
          "2019-11-30T00:00:00",
          "2019-12-31T00:00:00",
          "2020-01-31T00:00:00",
          "2020-02-29T00:00:00",
          "2020-03-31T00:00:00",
          "2020-04-30T00:00:00",
          "2020-05-31T00:00:00",
          "2020-06-30T00:00:00",
          "2020-07-31T00:00:00",
          "2020-08-31T00:00:00",
          "2020-09-30T00:00:00"
         ],
         "xaxis": "x",
         "y": [
          7308.2392578125,
          7379.8984375,
          8816.03515625,
          11253.7490234375,
          12894.0537109375,
          11032.244140625,
          10550.6767578125,
          9016.7373046875,
          10021.1552734375,
          8924.9599609375,
          8539.2646484375,
          9141.1962890625,
          8713.3388671875,
          8478.4697265625,
          8061.73974609375,
          6915.51220703125,
          6732.8798828125,
          6655.0908203125,
          6857.607421875,
          7126.982421875,
          8104.38916015625,
          10134.974609375,
          11340.111328125,
          10814.8125,
          10337.53515625,
          9737.830078125,
          9979.6279296875,
          9065.353515625,
          9176.6630859375,
          10239.9296875,
          9482.697265625,
          8665.8828125,
          9968.0009765625,
          10386.00390625,
          10539.8486328125,
          11889.416015625,
          11938.7587890625,
          11901.0185546875
         ],
         "yaxis": "y"
        }
       ],
       "layout": {
        "legend": {
         "title": {
          "text": "variable"
         },
         "tracegroupgap": 0
        },
        "template": {
         "data": {
          "bar": [
           {
            "error_x": {
             "color": "#2a3f5f"
            },
            "error_y": {
             "color": "#2a3f5f"
            },
            "marker": {
             "line": {
              "color": "#E5ECF6",
              "width": 0.5
             }
            },
            "type": "bar"
           }
          ],
          "barpolar": [
           {
            "marker": {
             "line": {
              "color": "#E5ECF6",
              "width": 0.5
             }
            },
            "type": "barpolar"
           }
          ],
          "carpet": [
           {
            "aaxis": {
             "endlinecolor": "#2a3f5f",
             "gridcolor": "white",
             "linecolor": "white",
             "minorgridcolor": "white",
             "startlinecolor": "#2a3f5f"
            },
            "baxis": {
             "endlinecolor": "#2a3f5f",
             "gridcolor": "white",
             "linecolor": "white",
             "minorgridcolor": "white",
             "startlinecolor": "#2a3f5f"
            },
            "type": "carpet"
           }
          ],
          "choropleth": [
           {
            "colorbar": {
             "outlinewidth": 0,
             "ticks": ""
            },
            "type": "choropleth"
           }
          ],
          "contour": [
           {
            "colorbar": {
             "outlinewidth": 0,
             "ticks": ""
            },
            "colorscale": [
             [
              0,
              "#0d0887"
             ],
             [
              0.1111111111111111,
              "#46039f"
             ],
             [
              0.2222222222222222,
              "#7201a8"
             ],
             [
              0.3333333333333333,
              "#9c179e"
             ],
             [
              0.4444444444444444,
              "#bd3786"
             ],
             [
              0.5555555555555556,
              "#d8576b"
             ],
             [
              0.6666666666666666,
              "#ed7953"
             ],
             [
              0.7777777777777778,
              "#fb9f3a"
             ],
             [
              0.8888888888888888,
              "#fdca26"
             ],
             [
              1,
              "#f0f921"
             ]
            ],
            "type": "contour"
           }
          ],
          "contourcarpet": [
           {
            "colorbar": {
             "outlinewidth": 0,
             "ticks": ""
            },
            "type": "contourcarpet"
           }
          ],
          "heatmap": [
           {
            "colorbar": {
             "outlinewidth": 0,
             "ticks": ""
            },
            "colorscale": [
             [
              0,
              "#0d0887"
             ],
             [
              0.1111111111111111,
              "#46039f"
             ],
             [
              0.2222222222222222,
              "#7201a8"
             ],
             [
              0.3333333333333333,
              "#9c179e"
             ],
             [
              0.4444444444444444,
              "#bd3786"
             ],
             [
              0.5555555555555556,
              "#d8576b"
             ],
             [
              0.6666666666666666,
              "#ed7953"
             ],
             [
              0.7777777777777778,
              "#fb9f3a"
             ],
             [
              0.8888888888888888,
              "#fdca26"
             ],
             [
              1,
              "#f0f921"
             ]
            ],
            "type": "heatmap"
           }
          ],
          "heatmapgl": [
           {
            "colorbar": {
             "outlinewidth": 0,
             "ticks": ""
            },
            "colorscale": [
             [
              0,
              "#0d0887"
             ],
             [
              0.1111111111111111,
              "#46039f"
             ],
             [
              0.2222222222222222,
              "#7201a8"
             ],
             [
              0.3333333333333333,
              "#9c179e"
             ],
             [
              0.4444444444444444,
              "#bd3786"
             ],
             [
              0.5555555555555556,
              "#d8576b"
             ],
             [
              0.6666666666666666,
              "#ed7953"
             ],
             [
              0.7777777777777778,
              "#fb9f3a"
             ],
             [
              0.8888888888888888,
              "#fdca26"
             ],
             [
              1,
              "#f0f921"
             ]
            ],
            "type": "heatmapgl"
           }
          ],
          "histogram": [
           {
            "marker": {
             "colorbar": {
              "outlinewidth": 0,
              "ticks": ""
             }
            },
            "type": "histogram"
           }
          ],
          "histogram2d": [
           {
            "colorbar": {
             "outlinewidth": 0,
             "ticks": ""
            },
            "colorscale": [
             [
              0,
              "#0d0887"
             ],
             [
              0.1111111111111111,
              "#46039f"
             ],
             [
              0.2222222222222222,
              "#7201a8"
             ],
             [
              0.3333333333333333,
              "#9c179e"
             ],
             [
              0.4444444444444444,
              "#bd3786"
             ],
             [
              0.5555555555555556,
              "#d8576b"
             ],
             [
              0.6666666666666666,
              "#ed7953"
             ],
             [
              0.7777777777777778,
              "#fb9f3a"
             ],
             [
              0.8888888888888888,
              "#fdca26"
             ],
             [
              1,
              "#f0f921"
             ]
            ],
            "type": "histogram2d"
           }
          ],
          "histogram2dcontour": [
           {
            "colorbar": {
             "outlinewidth": 0,
             "ticks": ""
            },
            "colorscale": [
             [
              0,
              "#0d0887"
             ],
             [
              0.1111111111111111,
              "#46039f"
             ],
             [
              0.2222222222222222,
              "#7201a8"
             ],
             [
              0.3333333333333333,
              "#9c179e"
             ],
             [
              0.4444444444444444,
              "#bd3786"
             ],
             [
              0.5555555555555556,
              "#d8576b"
             ],
             [
              0.6666666666666666,
              "#ed7953"
             ],
             [
              0.7777777777777778,
              "#fb9f3a"
             ],
             [
              0.8888888888888888,
              "#fdca26"
             ],
             [
              1,
              "#f0f921"
             ]
            ],
            "type": "histogram2dcontour"
           }
          ],
          "mesh3d": [
           {
            "colorbar": {
             "outlinewidth": 0,
             "ticks": ""
            },
            "type": "mesh3d"
           }
          ],
          "parcoords": [
           {
            "line": {
             "colorbar": {
              "outlinewidth": 0,
              "ticks": ""
             }
            },
            "type": "parcoords"
           }
          ],
          "pie": [
           {
            "automargin": true,
            "type": "pie"
           }
          ],
          "scatter": [
           {
            "marker": {
             "colorbar": {
              "outlinewidth": 0,
              "ticks": ""
             }
            },
            "type": "scatter"
           }
          ],
          "scatter3d": [
           {
            "line": {
             "colorbar": {
              "outlinewidth": 0,
              "ticks": ""
             }
            },
            "marker": {
             "colorbar": {
              "outlinewidth": 0,
              "ticks": ""
             }
            },
            "type": "scatter3d"
           }
          ],
          "scattercarpet": [
           {
            "marker": {
             "colorbar": {
              "outlinewidth": 0,
              "ticks": ""
             }
            },
            "type": "scattercarpet"
           }
          ],
          "scattergeo": [
           {
            "marker": {
             "colorbar": {
              "outlinewidth": 0,
              "ticks": ""
             }
            },
            "type": "scattergeo"
           }
          ],
          "scattergl": [
           {
            "marker": {
             "colorbar": {
              "outlinewidth": 0,
              "ticks": ""
             }
            },
            "type": "scattergl"
           }
          ],
          "scattermapbox": [
           {
            "marker": {
             "colorbar": {
              "outlinewidth": 0,
              "ticks": ""
             }
            },
            "type": "scattermapbox"
           }
          ],
          "scatterpolar": [
           {
            "marker": {
             "colorbar": {
              "outlinewidth": 0,
              "ticks": ""
             }
            },
            "type": "scatterpolar"
           }
          ],
          "scatterpolargl": [
           {
            "marker": {
             "colorbar": {
              "outlinewidth": 0,
              "ticks": ""
             }
            },
            "type": "scatterpolargl"
           }
          ],
          "scatterternary": [
           {
            "marker": {
             "colorbar": {
              "outlinewidth": 0,
              "ticks": ""
             }
            },
            "type": "scatterternary"
           }
          ],
          "surface": [
           {
            "colorbar": {
             "outlinewidth": 0,
             "ticks": ""
            },
            "colorscale": [
             [
              0,
              "#0d0887"
             ],
             [
              0.1111111111111111,
              "#46039f"
             ],
             [
              0.2222222222222222,
              "#7201a8"
             ],
             [
              0.3333333333333333,
              "#9c179e"
             ],
             [
              0.4444444444444444,
              "#bd3786"
             ],
             [
              0.5555555555555556,
              "#d8576b"
             ],
             [
              0.6666666666666666,
              "#ed7953"
             ],
             [
              0.7777777777777778,
              "#fb9f3a"
             ],
             [
              0.8888888888888888,
              "#fdca26"
             ],
             [
              1,
              "#f0f921"
             ]
            ],
            "type": "surface"
           }
          ],
          "table": [
           {
            "cells": {
             "fill": {
              "color": "#EBF0F8"
             },
             "line": {
              "color": "white"
             }
            },
            "header": {
             "fill": {
              "color": "#C8D4E3"
             },
             "line": {
              "color": "white"
             }
            },
            "type": "table"
           }
          ]
         },
         "layout": {
          "annotationdefaults": {
           "arrowcolor": "#2a3f5f",
           "arrowhead": 0,
           "arrowwidth": 1
          },
          "autotypenumbers": "strict",
          "coloraxis": {
           "colorbar": {
            "outlinewidth": 0,
            "ticks": ""
           }
          },
          "colorscale": {
           "diverging": [
            [
             0,
             "#8e0152"
            ],
            [
             0.1,
             "#c51b7d"
            ],
            [
             0.2,
             "#de77ae"
            ],
            [
             0.3,
             "#f1b6da"
            ],
            [
             0.4,
             "#fde0ef"
            ],
            [
             0.5,
             "#f7f7f7"
            ],
            [
             0.6,
             "#e6f5d0"
            ],
            [
             0.7,
             "#b8e186"
            ],
            [
             0.8,
             "#7fbc41"
            ],
            [
             0.9,
             "#4d9221"
            ],
            [
             1,
             "#276419"
            ]
           ],
           "sequential": [
            [
             0,
             "#0d0887"
            ],
            [
             0.1111111111111111,
             "#46039f"
            ],
            [
             0.2222222222222222,
             "#7201a8"
            ],
            [
             0.3333333333333333,
             "#9c179e"
            ],
            [
             0.4444444444444444,
             "#bd3786"
            ],
            [
             0.5555555555555556,
             "#d8576b"
            ],
            [
             0.6666666666666666,
             "#ed7953"
            ],
            [
             0.7777777777777778,
             "#fb9f3a"
            ],
            [
             0.8888888888888888,
             "#fdca26"
            ],
            [
             1,
             "#f0f921"
            ]
           ],
           "sequentialminus": [
            [
             0,
             "#0d0887"
            ],
            [
             0.1111111111111111,
             "#46039f"
            ],
            [
             0.2222222222222222,
             "#7201a8"
            ],
            [
             0.3333333333333333,
             "#9c179e"
            ],
            [
             0.4444444444444444,
             "#bd3786"
            ],
            [
             0.5555555555555556,
             "#d8576b"
            ],
            [
             0.6666666666666666,
             "#ed7953"
            ],
            [
             0.7777777777777778,
             "#fb9f3a"
            ],
            [
             0.8888888888888888,
             "#fdca26"
            ],
            [
             1,
             "#f0f921"
            ]
           ]
          },
          "colorway": [
           "#636efa",
           "#EF553B",
           "#00cc96",
           "#ab63fa",
           "#FFA15A",
           "#19d3f3",
           "#FF6692",
           "#B6E880",
           "#FF97FF",
           "#FECB52"
          ],
          "font": {
           "color": "#2a3f5f"
          },
          "geo": {
           "bgcolor": "white",
           "lakecolor": "white",
           "landcolor": "#E5ECF6",
           "showlakes": true,
           "showland": true,
           "subunitcolor": "white"
          },
          "hoverlabel": {
           "align": "left"
          },
          "hovermode": "closest",
          "mapbox": {
           "style": "light"
          },
          "paper_bgcolor": "white",
          "plot_bgcolor": "#E5ECF6",
          "polar": {
           "angularaxis": {
            "gridcolor": "white",
            "linecolor": "white",
            "ticks": ""
           },
           "bgcolor": "#E5ECF6",
           "radialaxis": {
            "gridcolor": "white",
            "linecolor": "white",
            "ticks": ""
           }
          },
          "scene": {
           "xaxis": {
            "backgroundcolor": "#E5ECF6",
            "gridcolor": "white",
            "gridwidth": 2,
            "linecolor": "white",
            "showbackground": true,
            "ticks": "",
            "zerolinecolor": "white"
           },
           "yaxis": {
            "backgroundcolor": "#E5ECF6",
            "gridcolor": "white",
            "gridwidth": 2,
            "linecolor": "white",
            "showbackground": true,
            "ticks": "",
            "zerolinecolor": "white"
           },
           "zaxis": {
            "backgroundcolor": "#E5ECF6",
            "gridcolor": "white",
            "gridwidth": 2,
            "linecolor": "white",
            "showbackground": true,
            "ticks": "",
            "zerolinecolor": "white"
           }
          },
          "shapedefaults": {
           "line": {
            "color": "#2a3f5f"
           }
          },
          "ternary": {
           "aaxis": {
            "gridcolor": "white",
            "linecolor": "white",
            "ticks": ""
           },
           "baxis": {
            "gridcolor": "white",
            "linecolor": "white",
            "ticks": ""
           },
           "bgcolor": "#E5ECF6",
           "caxis": {
            "gridcolor": "white",
            "linecolor": "white",
            "ticks": ""
           }
          },
          "title": {
           "x": 0.05
          },
          "xaxis": {
           "automargin": true,
           "gridcolor": "white",
           "linecolor": "white",
           "ticks": "",
           "title": {
            "standoff": 15
           },
           "zerolinecolor": "white",
           "zerolinewidth": 2
          },
          "yaxis": {
           "automargin": true,
           "gridcolor": "white",
           "linecolor": "white",
           "ticks": "",
           "title": {
            "standoff": 15
           },
           "zerolinecolor": "white",
           "zerolinewidth": 2
          }
         }
        },
        "title": {
         "text": "<span style=\"color:#012888;font-weight:bold\">BTC-USD Close price prediction - Training data         <br><span style=\"font-size: 13px;color:#444444;\">Train RMSE: 1830.2 <br>Train MAPE: 27.8%</span>"
        },
        "xaxis": {
         "anchor": "y",
         "domain": [
          0,
          1
         ],
         "title": {
          "text": "time"
         }
        },
        "yaxis": {
         "anchor": "x",
         "domain": [
          0,
          1
         ],
         "title": {
          "text": "value"
         }
        }
       }
      }
     },
     "metadata": {}
    }
   ],
   "metadata": {}
  },
  {
   "cell_type": "code",
   "execution_count": 250,
   "source": [
    "test_results = pd.DataFrame(df_val)\r\n",
    "test_results['test_pred'] = predicted_price\r\n",
    "px.line(test_results, \r\n",
    "        title='<span style=\"color:#012888;font-weight:bold\">BTC-USD Close price prediction - Validation data \\\r\n",
    "        <br><span style=\"font-size: 13px;color:#444444;\">Validation RMSE: {:.1f} <br>Train MAPE: {:.1%}</span>'.format(test_rmse, test_mape ))\r\n",
    "# plt.figure(figsize=(19,6))\r\n",
    "# plt.plot(df_val.index, df_val)\r\n",
    "# plt.plot(df_val.index, predicted_price)\r\n",
    "# plt.title('BTC-USD Close price prediction - Validation')\r\n",
    "# plt.xlabel('Date')\r\n",
    "# plt.ylabel('USD')"
   ],
   "outputs": [
    {
     "output_type": "display_data",
     "data": {
      "application/vnd.plotly.v1+json": {
       "config": {
        "plotlyServerURL": "https://plot.ly"
       },
       "data": [
        {
         "hovertemplate": "variable=close_x<br>time=%{x}<br>value=%{y}<extra></extra>",
         "legendgroup": "close_x",
         "line": {
          "color": "#636efa",
          "dash": "solid"
         },
         "mode": "lines",
         "name": "close_x",
         "orientation": "v",
         "showlegend": true,
         "type": "scatter",
         "x": [
          "2020-12-31T00:00:00",
          "2021-01-31T00:00:00",
          "2021-02-28T00:00:00",
          "2021-03-31T00:00:00",
          "2021-04-30T00:00:00",
          "2021-05-31T00:00:00",
          "2021-06-30T00:00:00",
          "2021-07-31T00:00:00",
          "2021-08-31T00:00:00",
          "2021-09-30T00:00:00"
         ],
         "xaxis": "x",
         "y": [
          28926.6575,
          33100.895000000004,
          45147.965,
          58745.5875,
          57694.2175,
          37248.6075,
          35043.71000000001,
          41460.99,
          47099.40125,
          45930.4075
         ],
         "yaxis": "y"
        },
        {
         "hovertemplate": "variable=test_pred<br>time=%{x}<br>value=%{y}<extra></extra>",
         "legendgroup": "test_pred",
         "line": {
          "color": "#EF553B",
          "dash": "solid"
         },
         "mode": "lines",
         "name": "test_pred",
         "orientation": "v",
         "showlegend": true,
         "type": "scatter",
         "x": [
          "2020-12-31T00:00:00",
          "2021-01-31T00:00:00",
          "2021-02-28T00:00:00",
          "2021-03-31T00:00:00",
          "2021-04-30T00:00:00",
          "2021-05-31T00:00:00",
          "2021-06-30T00:00:00",
          "2021-07-31T00:00:00",
          "2021-08-31T00:00:00",
          "2021-09-30T00:00:00"
         ],
         "xaxis": "x",
         "y": [
          14888.318359375,
          20904.8515625,
          28380.068359375,
          33085.78125,
          41177.0625,
          46918.6953125,
          45168.71484375,
          34224.3203125,
          33767.97265625,
          38196.75
         ],
         "yaxis": "y"
        }
       ],
       "layout": {
        "legend": {
         "title": {
          "text": "variable"
         },
         "tracegroupgap": 0
        },
        "template": {
         "data": {
          "bar": [
           {
            "error_x": {
             "color": "#2a3f5f"
            },
            "error_y": {
             "color": "#2a3f5f"
            },
            "marker": {
             "line": {
              "color": "#E5ECF6",
              "width": 0.5
             }
            },
            "type": "bar"
           }
          ],
          "barpolar": [
           {
            "marker": {
             "line": {
              "color": "#E5ECF6",
              "width": 0.5
             }
            },
            "type": "barpolar"
           }
          ],
          "carpet": [
           {
            "aaxis": {
             "endlinecolor": "#2a3f5f",
             "gridcolor": "white",
             "linecolor": "white",
             "minorgridcolor": "white",
             "startlinecolor": "#2a3f5f"
            },
            "baxis": {
             "endlinecolor": "#2a3f5f",
             "gridcolor": "white",
             "linecolor": "white",
             "minorgridcolor": "white",
             "startlinecolor": "#2a3f5f"
            },
            "type": "carpet"
           }
          ],
          "choropleth": [
           {
            "colorbar": {
             "outlinewidth": 0,
             "ticks": ""
            },
            "type": "choropleth"
           }
          ],
          "contour": [
           {
            "colorbar": {
             "outlinewidth": 0,
             "ticks": ""
            },
            "colorscale": [
             [
              0,
              "#0d0887"
             ],
             [
              0.1111111111111111,
              "#46039f"
             ],
             [
              0.2222222222222222,
              "#7201a8"
             ],
             [
              0.3333333333333333,
              "#9c179e"
             ],
             [
              0.4444444444444444,
              "#bd3786"
             ],
             [
              0.5555555555555556,
              "#d8576b"
             ],
             [
              0.6666666666666666,
              "#ed7953"
             ],
             [
              0.7777777777777778,
              "#fb9f3a"
             ],
             [
              0.8888888888888888,
              "#fdca26"
             ],
             [
              1,
              "#f0f921"
             ]
            ],
            "type": "contour"
           }
          ],
          "contourcarpet": [
           {
            "colorbar": {
             "outlinewidth": 0,
             "ticks": ""
            },
            "type": "contourcarpet"
           }
          ],
          "heatmap": [
           {
            "colorbar": {
             "outlinewidth": 0,
             "ticks": ""
            },
            "colorscale": [
             [
              0,
              "#0d0887"
             ],
             [
              0.1111111111111111,
              "#46039f"
             ],
             [
              0.2222222222222222,
              "#7201a8"
             ],
             [
              0.3333333333333333,
              "#9c179e"
             ],
             [
              0.4444444444444444,
              "#bd3786"
             ],
             [
              0.5555555555555556,
              "#d8576b"
             ],
             [
              0.6666666666666666,
              "#ed7953"
             ],
             [
              0.7777777777777778,
              "#fb9f3a"
             ],
             [
              0.8888888888888888,
              "#fdca26"
             ],
             [
              1,
              "#f0f921"
             ]
            ],
            "type": "heatmap"
           }
          ],
          "heatmapgl": [
           {
            "colorbar": {
             "outlinewidth": 0,
             "ticks": ""
            },
            "colorscale": [
             [
              0,
              "#0d0887"
             ],
             [
              0.1111111111111111,
              "#46039f"
             ],
             [
              0.2222222222222222,
              "#7201a8"
             ],
             [
              0.3333333333333333,
              "#9c179e"
             ],
             [
              0.4444444444444444,
              "#bd3786"
             ],
             [
              0.5555555555555556,
              "#d8576b"
             ],
             [
              0.6666666666666666,
              "#ed7953"
             ],
             [
              0.7777777777777778,
              "#fb9f3a"
             ],
             [
              0.8888888888888888,
              "#fdca26"
             ],
             [
              1,
              "#f0f921"
             ]
            ],
            "type": "heatmapgl"
           }
          ],
          "histogram": [
           {
            "marker": {
             "colorbar": {
              "outlinewidth": 0,
              "ticks": ""
             }
            },
            "type": "histogram"
           }
          ],
          "histogram2d": [
           {
            "colorbar": {
             "outlinewidth": 0,
             "ticks": ""
            },
            "colorscale": [
             [
              0,
              "#0d0887"
             ],
             [
              0.1111111111111111,
              "#46039f"
             ],
             [
              0.2222222222222222,
              "#7201a8"
             ],
             [
              0.3333333333333333,
              "#9c179e"
             ],
             [
              0.4444444444444444,
              "#bd3786"
             ],
             [
              0.5555555555555556,
              "#d8576b"
             ],
             [
              0.6666666666666666,
              "#ed7953"
             ],
             [
              0.7777777777777778,
              "#fb9f3a"
             ],
             [
              0.8888888888888888,
              "#fdca26"
             ],
             [
              1,
              "#f0f921"
             ]
            ],
            "type": "histogram2d"
           }
          ],
          "histogram2dcontour": [
           {
            "colorbar": {
             "outlinewidth": 0,
             "ticks": ""
            },
            "colorscale": [
             [
              0,
              "#0d0887"
             ],
             [
              0.1111111111111111,
              "#46039f"
             ],
             [
              0.2222222222222222,
              "#7201a8"
             ],
             [
              0.3333333333333333,
              "#9c179e"
             ],
             [
              0.4444444444444444,
              "#bd3786"
             ],
             [
              0.5555555555555556,
              "#d8576b"
             ],
             [
              0.6666666666666666,
              "#ed7953"
             ],
             [
              0.7777777777777778,
              "#fb9f3a"
             ],
             [
              0.8888888888888888,
              "#fdca26"
             ],
             [
              1,
              "#f0f921"
             ]
            ],
            "type": "histogram2dcontour"
           }
          ],
          "mesh3d": [
           {
            "colorbar": {
             "outlinewidth": 0,
             "ticks": ""
            },
            "type": "mesh3d"
           }
          ],
          "parcoords": [
           {
            "line": {
             "colorbar": {
              "outlinewidth": 0,
              "ticks": ""
             }
            },
            "type": "parcoords"
           }
          ],
          "pie": [
           {
            "automargin": true,
            "type": "pie"
           }
          ],
          "scatter": [
           {
            "marker": {
             "colorbar": {
              "outlinewidth": 0,
              "ticks": ""
             }
            },
            "type": "scatter"
           }
          ],
          "scatter3d": [
           {
            "line": {
             "colorbar": {
              "outlinewidth": 0,
              "ticks": ""
             }
            },
            "marker": {
             "colorbar": {
              "outlinewidth": 0,
              "ticks": ""
             }
            },
            "type": "scatter3d"
           }
          ],
          "scattercarpet": [
           {
            "marker": {
             "colorbar": {
              "outlinewidth": 0,
              "ticks": ""
             }
            },
            "type": "scattercarpet"
           }
          ],
          "scattergeo": [
           {
            "marker": {
             "colorbar": {
              "outlinewidth": 0,
              "ticks": ""
             }
            },
            "type": "scattergeo"
           }
          ],
          "scattergl": [
           {
            "marker": {
             "colorbar": {
              "outlinewidth": 0,
              "ticks": ""
             }
            },
            "type": "scattergl"
           }
          ],
          "scattermapbox": [
           {
            "marker": {
             "colorbar": {
              "outlinewidth": 0,
              "ticks": ""
             }
            },
            "type": "scattermapbox"
           }
          ],
          "scatterpolar": [
           {
            "marker": {
             "colorbar": {
              "outlinewidth": 0,
              "ticks": ""
             }
            },
            "type": "scatterpolar"
           }
          ],
          "scatterpolargl": [
           {
            "marker": {
             "colorbar": {
              "outlinewidth": 0,
              "ticks": ""
             }
            },
            "type": "scatterpolargl"
           }
          ],
          "scatterternary": [
           {
            "marker": {
             "colorbar": {
              "outlinewidth": 0,
              "ticks": ""
             }
            },
            "type": "scatterternary"
           }
          ],
          "surface": [
           {
            "colorbar": {
             "outlinewidth": 0,
             "ticks": ""
            },
            "colorscale": [
             [
              0,
              "#0d0887"
             ],
             [
              0.1111111111111111,
              "#46039f"
             ],
             [
              0.2222222222222222,
              "#7201a8"
             ],
             [
              0.3333333333333333,
              "#9c179e"
             ],
             [
              0.4444444444444444,
              "#bd3786"
             ],
             [
              0.5555555555555556,
              "#d8576b"
             ],
             [
              0.6666666666666666,
              "#ed7953"
             ],
             [
              0.7777777777777778,
              "#fb9f3a"
             ],
             [
              0.8888888888888888,
              "#fdca26"
             ],
             [
              1,
              "#f0f921"
             ]
            ],
            "type": "surface"
           }
          ],
          "table": [
           {
            "cells": {
             "fill": {
              "color": "#EBF0F8"
             },
             "line": {
              "color": "white"
             }
            },
            "header": {
             "fill": {
              "color": "#C8D4E3"
             },
             "line": {
              "color": "white"
             }
            },
            "type": "table"
           }
          ]
         },
         "layout": {
          "annotationdefaults": {
           "arrowcolor": "#2a3f5f",
           "arrowhead": 0,
           "arrowwidth": 1
          },
          "autotypenumbers": "strict",
          "coloraxis": {
           "colorbar": {
            "outlinewidth": 0,
            "ticks": ""
           }
          },
          "colorscale": {
           "diverging": [
            [
             0,
             "#8e0152"
            ],
            [
             0.1,
             "#c51b7d"
            ],
            [
             0.2,
             "#de77ae"
            ],
            [
             0.3,
             "#f1b6da"
            ],
            [
             0.4,
             "#fde0ef"
            ],
            [
             0.5,
             "#f7f7f7"
            ],
            [
             0.6,
             "#e6f5d0"
            ],
            [
             0.7,
             "#b8e186"
            ],
            [
             0.8,
             "#7fbc41"
            ],
            [
             0.9,
             "#4d9221"
            ],
            [
             1,
             "#276419"
            ]
           ],
           "sequential": [
            [
             0,
             "#0d0887"
            ],
            [
             0.1111111111111111,
             "#46039f"
            ],
            [
             0.2222222222222222,
             "#7201a8"
            ],
            [
             0.3333333333333333,
             "#9c179e"
            ],
            [
             0.4444444444444444,
             "#bd3786"
            ],
            [
             0.5555555555555556,
             "#d8576b"
            ],
            [
             0.6666666666666666,
             "#ed7953"
            ],
            [
             0.7777777777777778,
             "#fb9f3a"
            ],
            [
             0.8888888888888888,
             "#fdca26"
            ],
            [
             1,
             "#f0f921"
            ]
           ],
           "sequentialminus": [
            [
             0,
             "#0d0887"
            ],
            [
             0.1111111111111111,
             "#46039f"
            ],
            [
             0.2222222222222222,
             "#7201a8"
            ],
            [
             0.3333333333333333,
             "#9c179e"
            ],
            [
             0.4444444444444444,
             "#bd3786"
            ],
            [
             0.5555555555555556,
             "#d8576b"
            ],
            [
             0.6666666666666666,
             "#ed7953"
            ],
            [
             0.7777777777777778,
             "#fb9f3a"
            ],
            [
             0.8888888888888888,
             "#fdca26"
            ],
            [
             1,
             "#f0f921"
            ]
           ]
          },
          "colorway": [
           "#636efa",
           "#EF553B",
           "#00cc96",
           "#ab63fa",
           "#FFA15A",
           "#19d3f3",
           "#FF6692",
           "#B6E880",
           "#FF97FF",
           "#FECB52"
          ],
          "font": {
           "color": "#2a3f5f"
          },
          "geo": {
           "bgcolor": "white",
           "lakecolor": "white",
           "landcolor": "#E5ECF6",
           "showlakes": true,
           "showland": true,
           "subunitcolor": "white"
          },
          "hoverlabel": {
           "align": "left"
          },
          "hovermode": "closest",
          "mapbox": {
           "style": "light"
          },
          "paper_bgcolor": "white",
          "plot_bgcolor": "#E5ECF6",
          "polar": {
           "angularaxis": {
            "gridcolor": "white",
            "linecolor": "white",
            "ticks": ""
           },
           "bgcolor": "#E5ECF6",
           "radialaxis": {
            "gridcolor": "white",
            "linecolor": "white",
            "ticks": ""
           }
          },
          "scene": {
           "xaxis": {
            "backgroundcolor": "#E5ECF6",
            "gridcolor": "white",
            "gridwidth": 2,
            "linecolor": "white",
            "showbackground": true,
            "ticks": "",
            "zerolinecolor": "white"
           },
           "yaxis": {
            "backgroundcolor": "#E5ECF6",
            "gridcolor": "white",
            "gridwidth": 2,
            "linecolor": "white",
            "showbackground": true,
            "ticks": "",
            "zerolinecolor": "white"
           },
           "zaxis": {
            "backgroundcolor": "#E5ECF6",
            "gridcolor": "white",
            "gridwidth": 2,
            "linecolor": "white",
            "showbackground": true,
            "ticks": "",
            "zerolinecolor": "white"
           }
          },
          "shapedefaults": {
           "line": {
            "color": "#2a3f5f"
           }
          },
          "ternary": {
           "aaxis": {
            "gridcolor": "white",
            "linecolor": "white",
            "ticks": ""
           },
           "baxis": {
            "gridcolor": "white",
            "linecolor": "white",
            "ticks": ""
           },
           "bgcolor": "#E5ECF6",
           "caxis": {
            "gridcolor": "white",
            "linecolor": "white",
            "ticks": ""
           }
          },
          "title": {
           "x": 0.05
          },
          "xaxis": {
           "automargin": true,
           "gridcolor": "white",
           "linecolor": "white",
           "ticks": "",
           "title": {
            "standoff": 15
           },
           "zerolinecolor": "white",
           "zerolinewidth": 2
          },
          "yaxis": {
           "automargin": true,
           "gridcolor": "white",
           "linecolor": "white",
           "ticks": "",
           "title": {
            "standoff": 15
           },
           "zerolinecolor": "white",
           "zerolinewidth": 2
          }
         }
        },
        "title": {
         "text": "<span style=\"color:#012888;font-weight:bold\">BTC-USD Close price prediction - Validation data         <br><span style=\"font-size: 13px;color:#444444;\">Validation RMSE: 14297.4 <br>Train MAPE: 31.2%</span>"
        },
        "xaxis": {
         "anchor": "y",
         "domain": [
          0,
          1
         ],
         "title": {
          "text": "time"
         }
        },
        "yaxis": {
         "anchor": "x",
         "domain": [
          0,
          1
         ],
         "title": {
          "text": "value"
         }
        }
       }
      }
     },
     "metadata": {}
    }
   ],
   "metadata": {}
  },
  {
   "cell_type": "code",
   "execution_count": 251,
   "source": [
    "total_results = pd.concat([train_results,test_results])\r\n",
    "\r\n",
    "px.line(total_results, \r\n",
    "        title='<span style=\"color:#012888;font-weight:bold\">BTC-USD Close price prediction - Total data \\\r\n",
    "        <br><span style=\"font-size: 13px;color:#444444;\">Train RMSE: {:.1f} ; Train MAPE: {:.1%}<br>Validation RMSE: {:.1f} ; Test MAPE: {:.1%} </span>'.format(train_rmse, train_mape, test_rmse, test_mape))"
   ],
   "outputs": [
    {
     "output_type": "display_data",
     "data": {
      "application/vnd.plotly.v1+json": {
       "config": {
        "plotlyServerURL": "https://plot.ly"
       },
       "data": [
        {
         "hovertemplate": "variable=close_x<br>time=%{x}<br>value=%{y}<extra></extra>",
         "legendgroup": "close_x",
         "line": {
          "color": "#636efa",
          "dash": "solid"
         },
         "mode": "lines",
         "name": "close_x",
         "orientation": "v",
         "showlegend": true,
         "type": "scatter",
         "x": [
          "2017-08-31T00:00:00",
          "2017-09-30T00:00:00",
          "2017-10-31T00:00:00",
          "2017-11-30T00:00:00",
          "2017-12-31T00:00:00",
          "2018-01-31T00:00:00",
          "2018-02-28T00:00:00",
          "2018-03-31T00:00:00",
          "2018-04-30T00:00:00",
          "2018-05-31T00:00:00",
          "2018-06-30T00:00:00",
          "2018-07-31T00:00:00",
          "2018-08-31T00:00:00",
          "2018-09-30T00:00:00",
          "2018-10-31T00:00:00",
          "2018-11-30T00:00:00",
          "2018-12-31T00:00:00",
          "2019-01-31T00:00:00",
          "2019-02-28T00:00:00",
          "2019-03-31T00:00:00",
          "2019-04-30T00:00:00",
          "2019-05-31T00:00:00",
          "2019-06-30T00:00:00",
          "2019-07-31T00:00:00",
          "2019-08-31T00:00:00",
          "2019-09-30T00:00:00",
          "2019-10-31T00:00:00",
          "2019-11-30T00:00:00",
          "2019-12-31T00:00:00",
          "2020-01-31T00:00:00",
          "2020-02-29T00:00:00",
          "2020-03-31T00:00:00",
          "2020-04-30T00:00:00",
          "2020-05-31T00:00:00",
          "2020-06-30T00:00:00",
          "2020-07-31T00:00:00",
          "2020-08-31T00:00:00",
          "2020-09-30T00:00:00",
          "2020-12-31T00:00:00",
          "2021-01-31T00:00:00",
          "2021-02-28T00:00:00",
          "2021-03-31T00:00:00",
          "2021-04-30T00:00:00",
          "2021-05-31T00:00:00",
          "2021-06-30T00:00:00",
          "2021-07-31T00:00:00",
          "2021-08-31T00:00:00",
          "2021-09-30T00:00:00"
         ],
         "xaxis": "x",
         "y": [
          4724.89,
          4378.51,
          6386.6000005000005,
          9827.1111925,
          13324.680001,
          10259.05,
          10313.3799995,
          6924.955,
          9232.005,
          7480.830865,
          6393.447897,
          7732.690164,
          7015.984044,
          6620.8350025,
          6372.8816725,
          4040.4784135,
          3700.6861095,
          3434.7883970000003,
          3814.91003795,
          4103.825,
          5320.205,
          8555.3,
          10842.6,
          10078.565,
          9585.935,
          8288.42,
          9141.225,
          7543.345,
          7195.665,
          9351.495,
          8525.355,
          6410.209999999999,
          8624.15,
          9449.5675,
          9137.6875,
          11336.19,
          11650.677500000002,
          10776.9975,
          28926.6575,
          33100.895000000004,
          45147.965,
          58745.5875,
          57694.2175,
          37248.6075,
          35043.71000000001,
          41460.99,
          47099.40125,
          45930.4075
         ],
         "yaxis": "y"
        },
        {
         "hovertemplate": "variable=train_pred<br>time=%{x}<br>value=%{y}<extra></extra>",
         "legendgroup": "train_pred",
         "line": {
          "color": "#EF553B",
          "dash": "solid"
         },
         "mode": "lines",
         "name": "train_pred",
         "orientation": "v",
         "showlegend": true,
         "type": "scatter",
         "x": [
          "2017-08-31T00:00:00",
          "2017-09-30T00:00:00",
          "2017-10-31T00:00:00",
          "2017-11-30T00:00:00",
          "2017-12-31T00:00:00",
          "2018-01-31T00:00:00",
          "2018-02-28T00:00:00",
          "2018-03-31T00:00:00",
          "2018-04-30T00:00:00",
          "2018-05-31T00:00:00",
          "2018-06-30T00:00:00",
          "2018-07-31T00:00:00",
          "2018-08-31T00:00:00",
          "2018-09-30T00:00:00",
          "2018-10-31T00:00:00",
          "2018-11-30T00:00:00",
          "2018-12-31T00:00:00",
          "2019-01-31T00:00:00",
          "2019-02-28T00:00:00",
          "2019-03-31T00:00:00",
          "2019-04-30T00:00:00",
          "2019-05-31T00:00:00",
          "2019-06-30T00:00:00",
          "2019-07-31T00:00:00",
          "2019-08-31T00:00:00",
          "2019-09-30T00:00:00",
          "2019-10-31T00:00:00",
          "2019-11-30T00:00:00",
          "2019-12-31T00:00:00",
          "2020-01-31T00:00:00",
          "2020-02-29T00:00:00",
          "2020-03-31T00:00:00",
          "2020-04-30T00:00:00",
          "2020-05-31T00:00:00",
          "2020-06-30T00:00:00",
          "2020-07-31T00:00:00",
          "2020-08-31T00:00:00",
          "2020-09-30T00:00:00",
          "2020-12-31T00:00:00",
          "2021-01-31T00:00:00",
          "2021-02-28T00:00:00",
          "2021-03-31T00:00:00",
          "2021-04-30T00:00:00",
          "2021-05-31T00:00:00",
          "2021-06-30T00:00:00",
          "2021-07-31T00:00:00",
          "2021-08-31T00:00:00",
          "2021-09-30T00:00:00"
         ],
         "xaxis": "x",
         "y": [
          7308.2392578125,
          7379.8984375,
          8816.03515625,
          11253.7490234375,
          12894.0537109375,
          11032.244140625,
          10550.6767578125,
          9016.7373046875,
          10021.1552734375,
          8924.9599609375,
          8539.2646484375,
          9141.1962890625,
          8713.3388671875,
          8478.4697265625,
          8061.73974609375,
          6915.51220703125,
          6732.8798828125,
          6655.0908203125,
          6857.607421875,
          7126.982421875,
          8104.38916015625,
          10134.974609375,
          11340.111328125,
          10814.8125,
          10337.53515625,
          9737.830078125,
          9979.6279296875,
          9065.353515625,
          9176.6630859375,
          10239.9296875,
          9482.697265625,
          8665.8828125,
          9968.0009765625,
          10386.00390625,
          10539.8486328125,
          11889.416015625,
          11938.7587890625,
          11901.0185546875,
          null,
          null,
          null,
          null,
          null,
          null,
          null,
          null,
          null,
          null
         ],
         "yaxis": "y"
        },
        {
         "hovertemplate": "variable=test_pred<br>time=%{x}<br>value=%{y}<extra></extra>",
         "legendgroup": "test_pred",
         "line": {
          "color": "#00cc96",
          "dash": "solid"
         },
         "mode": "lines",
         "name": "test_pred",
         "orientation": "v",
         "showlegend": true,
         "type": "scatter",
         "x": [
          "2017-08-31T00:00:00",
          "2017-09-30T00:00:00",
          "2017-10-31T00:00:00",
          "2017-11-30T00:00:00",
          "2017-12-31T00:00:00",
          "2018-01-31T00:00:00",
          "2018-02-28T00:00:00",
          "2018-03-31T00:00:00",
          "2018-04-30T00:00:00",
          "2018-05-31T00:00:00",
          "2018-06-30T00:00:00",
          "2018-07-31T00:00:00",
          "2018-08-31T00:00:00",
          "2018-09-30T00:00:00",
          "2018-10-31T00:00:00",
          "2018-11-30T00:00:00",
          "2018-12-31T00:00:00",
          "2019-01-31T00:00:00",
          "2019-02-28T00:00:00",
          "2019-03-31T00:00:00",
          "2019-04-30T00:00:00",
          "2019-05-31T00:00:00",
          "2019-06-30T00:00:00",
          "2019-07-31T00:00:00",
          "2019-08-31T00:00:00",
          "2019-09-30T00:00:00",
          "2019-10-31T00:00:00",
          "2019-11-30T00:00:00",
          "2019-12-31T00:00:00",
          "2020-01-31T00:00:00",
          "2020-02-29T00:00:00",
          "2020-03-31T00:00:00",
          "2020-04-30T00:00:00",
          "2020-05-31T00:00:00",
          "2020-06-30T00:00:00",
          "2020-07-31T00:00:00",
          "2020-08-31T00:00:00",
          "2020-09-30T00:00:00",
          "2020-12-31T00:00:00",
          "2021-01-31T00:00:00",
          "2021-02-28T00:00:00",
          "2021-03-31T00:00:00",
          "2021-04-30T00:00:00",
          "2021-05-31T00:00:00",
          "2021-06-30T00:00:00",
          "2021-07-31T00:00:00",
          "2021-08-31T00:00:00",
          "2021-09-30T00:00:00"
         ],
         "xaxis": "x",
         "y": [
          null,
          null,
          null,
          null,
          null,
          null,
          null,
          null,
          null,
          null,
          null,
          null,
          null,
          null,
          null,
          null,
          null,
          null,
          null,
          null,
          null,
          null,
          null,
          null,
          null,
          null,
          null,
          null,
          null,
          null,
          null,
          null,
          null,
          null,
          null,
          null,
          null,
          null,
          14888.318359375,
          20904.8515625,
          28380.068359375,
          33085.78125,
          41177.0625,
          46918.6953125,
          45168.71484375,
          34224.3203125,
          33767.97265625,
          38196.75
         ],
         "yaxis": "y"
        }
       ],
       "layout": {
        "legend": {
         "title": {
          "text": "variable"
         },
         "tracegroupgap": 0
        },
        "template": {
         "data": {
          "bar": [
           {
            "error_x": {
             "color": "#2a3f5f"
            },
            "error_y": {
             "color": "#2a3f5f"
            },
            "marker": {
             "line": {
              "color": "#E5ECF6",
              "width": 0.5
             }
            },
            "type": "bar"
           }
          ],
          "barpolar": [
           {
            "marker": {
             "line": {
              "color": "#E5ECF6",
              "width": 0.5
             }
            },
            "type": "barpolar"
           }
          ],
          "carpet": [
           {
            "aaxis": {
             "endlinecolor": "#2a3f5f",
             "gridcolor": "white",
             "linecolor": "white",
             "minorgridcolor": "white",
             "startlinecolor": "#2a3f5f"
            },
            "baxis": {
             "endlinecolor": "#2a3f5f",
             "gridcolor": "white",
             "linecolor": "white",
             "minorgridcolor": "white",
             "startlinecolor": "#2a3f5f"
            },
            "type": "carpet"
           }
          ],
          "choropleth": [
           {
            "colorbar": {
             "outlinewidth": 0,
             "ticks": ""
            },
            "type": "choropleth"
           }
          ],
          "contour": [
           {
            "colorbar": {
             "outlinewidth": 0,
             "ticks": ""
            },
            "colorscale": [
             [
              0,
              "#0d0887"
             ],
             [
              0.1111111111111111,
              "#46039f"
             ],
             [
              0.2222222222222222,
              "#7201a8"
             ],
             [
              0.3333333333333333,
              "#9c179e"
             ],
             [
              0.4444444444444444,
              "#bd3786"
             ],
             [
              0.5555555555555556,
              "#d8576b"
             ],
             [
              0.6666666666666666,
              "#ed7953"
             ],
             [
              0.7777777777777778,
              "#fb9f3a"
             ],
             [
              0.8888888888888888,
              "#fdca26"
             ],
             [
              1,
              "#f0f921"
             ]
            ],
            "type": "contour"
           }
          ],
          "contourcarpet": [
           {
            "colorbar": {
             "outlinewidth": 0,
             "ticks": ""
            },
            "type": "contourcarpet"
           }
          ],
          "heatmap": [
           {
            "colorbar": {
             "outlinewidth": 0,
             "ticks": ""
            },
            "colorscale": [
             [
              0,
              "#0d0887"
             ],
             [
              0.1111111111111111,
              "#46039f"
             ],
             [
              0.2222222222222222,
              "#7201a8"
             ],
             [
              0.3333333333333333,
              "#9c179e"
             ],
             [
              0.4444444444444444,
              "#bd3786"
             ],
             [
              0.5555555555555556,
              "#d8576b"
             ],
             [
              0.6666666666666666,
              "#ed7953"
             ],
             [
              0.7777777777777778,
              "#fb9f3a"
             ],
             [
              0.8888888888888888,
              "#fdca26"
             ],
             [
              1,
              "#f0f921"
             ]
            ],
            "type": "heatmap"
           }
          ],
          "heatmapgl": [
           {
            "colorbar": {
             "outlinewidth": 0,
             "ticks": ""
            },
            "colorscale": [
             [
              0,
              "#0d0887"
             ],
             [
              0.1111111111111111,
              "#46039f"
             ],
             [
              0.2222222222222222,
              "#7201a8"
             ],
             [
              0.3333333333333333,
              "#9c179e"
             ],
             [
              0.4444444444444444,
              "#bd3786"
             ],
             [
              0.5555555555555556,
              "#d8576b"
             ],
             [
              0.6666666666666666,
              "#ed7953"
             ],
             [
              0.7777777777777778,
              "#fb9f3a"
             ],
             [
              0.8888888888888888,
              "#fdca26"
             ],
             [
              1,
              "#f0f921"
             ]
            ],
            "type": "heatmapgl"
           }
          ],
          "histogram": [
           {
            "marker": {
             "colorbar": {
              "outlinewidth": 0,
              "ticks": ""
             }
            },
            "type": "histogram"
           }
          ],
          "histogram2d": [
           {
            "colorbar": {
             "outlinewidth": 0,
             "ticks": ""
            },
            "colorscale": [
             [
              0,
              "#0d0887"
             ],
             [
              0.1111111111111111,
              "#46039f"
             ],
             [
              0.2222222222222222,
              "#7201a8"
             ],
             [
              0.3333333333333333,
              "#9c179e"
             ],
             [
              0.4444444444444444,
              "#bd3786"
             ],
             [
              0.5555555555555556,
              "#d8576b"
             ],
             [
              0.6666666666666666,
              "#ed7953"
             ],
             [
              0.7777777777777778,
              "#fb9f3a"
             ],
             [
              0.8888888888888888,
              "#fdca26"
             ],
             [
              1,
              "#f0f921"
             ]
            ],
            "type": "histogram2d"
           }
          ],
          "histogram2dcontour": [
           {
            "colorbar": {
             "outlinewidth": 0,
             "ticks": ""
            },
            "colorscale": [
             [
              0,
              "#0d0887"
             ],
             [
              0.1111111111111111,
              "#46039f"
             ],
             [
              0.2222222222222222,
              "#7201a8"
             ],
             [
              0.3333333333333333,
              "#9c179e"
             ],
             [
              0.4444444444444444,
              "#bd3786"
             ],
             [
              0.5555555555555556,
              "#d8576b"
             ],
             [
              0.6666666666666666,
              "#ed7953"
             ],
             [
              0.7777777777777778,
              "#fb9f3a"
             ],
             [
              0.8888888888888888,
              "#fdca26"
             ],
             [
              1,
              "#f0f921"
             ]
            ],
            "type": "histogram2dcontour"
           }
          ],
          "mesh3d": [
           {
            "colorbar": {
             "outlinewidth": 0,
             "ticks": ""
            },
            "type": "mesh3d"
           }
          ],
          "parcoords": [
           {
            "line": {
             "colorbar": {
              "outlinewidth": 0,
              "ticks": ""
             }
            },
            "type": "parcoords"
           }
          ],
          "pie": [
           {
            "automargin": true,
            "type": "pie"
           }
          ],
          "scatter": [
           {
            "marker": {
             "colorbar": {
              "outlinewidth": 0,
              "ticks": ""
             }
            },
            "type": "scatter"
           }
          ],
          "scatter3d": [
           {
            "line": {
             "colorbar": {
              "outlinewidth": 0,
              "ticks": ""
             }
            },
            "marker": {
             "colorbar": {
              "outlinewidth": 0,
              "ticks": ""
             }
            },
            "type": "scatter3d"
           }
          ],
          "scattercarpet": [
           {
            "marker": {
             "colorbar": {
              "outlinewidth": 0,
              "ticks": ""
             }
            },
            "type": "scattercarpet"
           }
          ],
          "scattergeo": [
           {
            "marker": {
             "colorbar": {
              "outlinewidth": 0,
              "ticks": ""
             }
            },
            "type": "scattergeo"
           }
          ],
          "scattergl": [
           {
            "marker": {
             "colorbar": {
              "outlinewidth": 0,
              "ticks": ""
             }
            },
            "type": "scattergl"
           }
          ],
          "scattermapbox": [
           {
            "marker": {
             "colorbar": {
              "outlinewidth": 0,
              "ticks": ""
             }
            },
            "type": "scattermapbox"
           }
          ],
          "scatterpolar": [
           {
            "marker": {
             "colorbar": {
              "outlinewidth": 0,
              "ticks": ""
             }
            },
            "type": "scatterpolar"
           }
          ],
          "scatterpolargl": [
           {
            "marker": {
             "colorbar": {
              "outlinewidth": 0,
              "ticks": ""
             }
            },
            "type": "scatterpolargl"
           }
          ],
          "scatterternary": [
           {
            "marker": {
             "colorbar": {
              "outlinewidth": 0,
              "ticks": ""
             }
            },
            "type": "scatterternary"
           }
          ],
          "surface": [
           {
            "colorbar": {
             "outlinewidth": 0,
             "ticks": ""
            },
            "colorscale": [
             [
              0,
              "#0d0887"
             ],
             [
              0.1111111111111111,
              "#46039f"
             ],
             [
              0.2222222222222222,
              "#7201a8"
             ],
             [
              0.3333333333333333,
              "#9c179e"
             ],
             [
              0.4444444444444444,
              "#bd3786"
             ],
             [
              0.5555555555555556,
              "#d8576b"
             ],
             [
              0.6666666666666666,
              "#ed7953"
             ],
             [
              0.7777777777777778,
              "#fb9f3a"
             ],
             [
              0.8888888888888888,
              "#fdca26"
             ],
             [
              1,
              "#f0f921"
             ]
            ],
            "type": "surface"
           }
          ],
          "table": [
           {
            "cells": {
             "fill": {
              "color": "#EBF0F8"
             },
             "line": {
              "color": "white"
             }
            },
            "header": {
             "fill": {
              "color": "#C8D4E3"
             },
             "line": {
              "color": "white"
             }
            },
            "type": "table"
           }
          ]
         },
         "layout": {
          "annotationdefaults": {
           "arrowcolor": "#2a3f5f",
           "arrowhead": 0,
           "arrowwidth": 1
          },
          "autotypenumbers": "strict",
          "coloraxis": {
           "colorbar": {
            "outlinewidth": 0,
            "ticks": ""
           }
          },
          "colorscale": {
           "diverging": [
            [
             0,
             "#8e0152"
            ],
            [
             0.1,
             "#c51b7d"
            ],
            [
             0.2,
             "#de77ae"
            ],
            [
             0.3,
             "#f1b6da"
            ],
            [
             0.4,
             "#fde0ef"
            ],
            [
             0.5,
             "#f7f7f7"
            ],
            [
             0.6,
             "#e6f5d0"
            ],
            [
             0.7,
             "#b8e186"
            ],
            [
             0.8,
             "#7fbc41"
            ],
            [
             0.9,
             "#4d9221"
            ],
            [
             1,
             "#276419"
            ]
           ],
           "sequential": [
            [
             0,
             "#0d0887"
            ],
            [
             0.1111111111111111,
             "#46039f"
            ],
            [
             0.2222222222222222,
             "#7201a8"
            ],
            [
             0.3333333333333333,
             "#9c179e"
            ],
            [
             0.4444444444444444,
             "#bd3786"
            ],
            [
             0.5555555555555556,
             "#d8576b"
            ],
            [
             0.6666666666666666,
             "#ed7953"
            ],
            [
             0.7777777777777778,
             "#fb9f3a"
            ],
            [
             0.8888888888888888,
             "#fdca26"
            ],
            [
             1,
             "#f0f921"
            ]
           ],
           "sequentialminus": [
            [
             0,
             "#0d0887"
            ],
            [
             0.1111111111111111,
             "#46039f"
            ],
            [
             0.2222222222222222,
             "#7201a8"
            ],
            [
             0.3333333333333333,
             "#9c179e"
            ],
            [
             0.4444444444444444,
             "#bd3786"
            ],
            [
             0.5555555555555556,
             "#d8576b"
            ],
            [
             0.6666666666666666,
             "#ed7953"
            ],
            [
             0.7777777777777778,
             "#fb9f3a"
            ],
            [
             0.8888888888888888,
             "#fdca26"
            ],
            [
             1,
             "#f0f921"
            ]
           ]
          },
          "colorway": [
           "#636efa",
           "#EF553B",
           "#00cc96",
           "#ab63fa",
           "#FFA15A",
           "#19d3f3",
           "#FF6692",
           "#B6E880",
           "#FF97FF",
           "#FECB52"
          ],
          "font": {
           "color": "#2a3f5f"
          },
          "geo": {
           "bgcolor": "white",
           "lakecolor": "white",
           "landcolor": "#E5ECF6",
           "showlakes": true,
           "showland": true,
           "subunitcolor": "white"
          },
          "hoverlabel": {
           "align": "left"
          },
          "hovermode": "closest",
          "mapbox": {
           "style": "light"
          },
          "paper_bgcolor": "white",
          "plot_bgcolor": "#E5ECF6",
          "polar": {
           "angularaxis": {
            "gridcolor": "white",
            "linecolor": "white",
            "ticks": ""
           },
           "bgcolor": "#E5ECF6",
           "radialaxis": {
            "gridcolor": "white",
            "linecolor": "white",
            "ticks": ""
           }
          },
          "scene": {
           "xaxis": {
            "backgroundcolor": "#E5ECF6",
            "gridcolor": "white",
            "gridwidth": 2,
            "linecolor": "white",
            "showbackground": true,
            "ticks": "",
            "zerolinecolor": "white"
           },
           "yaxis": {
            "backgroundcolor": "#E5ECF6",
            "gridcolor": "white",
            "gridwidth": 2,
            "linecolor": "white",
            "showbackground": true,
            "ticks": "",
            "zerolinecolor": "white"
           },
           "zaxis": {
            "backgroundcolor": "#E5ECF6",
            "gridcolor": "white",
            "gridwidth": 2,
            "linecolor": "white",
            "showbackground": true,
            "ticks": "",
            "zerolinecolor": "white"
           }
          },
          "shapedefaults": {
           "line": {
            "color": "#2a3f5f"
           }
          },
          "ternary": {
           "aaxis": {
            "gridcolor": "white",
            "linecolor": "white",
            "ticks": ""
           },
           "baxis": {
            "gridcolor": "white",
            "linecolor": "white",
            "ticks": ""
           },
           "bgcolor": "#E5ECF6",
           "caxis": {
            "gridcolor": "white",
            "linecolor": "white",
            "ticks": ""
           }
          },
          "title": {
           "x": 0.05
          },
          "xaxis": {
           "automargin": true,
           "gridcolor": "white",
           "linecolor": "white",
           "ticks": "",
           "title": {
            "standoff": 15
           },
           "zerolinecolor": "white",
           "zerolinewidth": 2
          },
          "yaxis": {
           "automargin": true,
           "gridcolor": "white",
           "linecolor": "white",
           "ticks": "",
           "title": {
            "standoff": 15
           },
           "zerolinecolor": "white",
           "zerolinewidth": 2
          }
         }
        },
        "title": {
         "text": "<span style=\"color:#012888;font-weight:bold\">BTC-USD Close price prediction - Total data         <br><span style=\"font-size: 13px;color:#444444;\">Train RMSE: 1830.2 ; Train MAPE: 27.8%<br>Validation RMSE: 14297.4 ; Test MAPE: 31.2% </span>"
        },
        "xaxis": {
         "anchor": "y",
         "domain": [
          0,
          1
         ],
         "title": {
          "text": "time"
         }
        },
        "yaxis": {
         "anchor": "x",
         "domain": [
          0,
          1
         ],
         "title": {
          "text": "value"
         }
        }
       }
      }
     },
     "metadata": {}
    }
   ],
   "metadata": {}
  },
  {
   "cell_type": "code",
   "execution_count": 252,
   "source": [
    "blabla = pd.DataFrame(scaler.inverse_transform(val_inputs))\r\n",
    "blabla"
   ],
   "outputs": [
    {
     "output_type": "execute_result",
     "data": {
      "text/html": [
       "<div>\n",
       "<style scoped>\n",
       "    .dataframe tbody tr th:only-of-type {\n",
       "        vertical-align: middle;\n",
       "    }\n",
       "\n",
       "    .dataframe tbody tr th {\n",
       "        vertical-align: top;\n",
       "    }\n",
       "\n",
       "    .dataframe thead th {\n",
       "        text-align: right;\n",
       "    }\n",
       "</style>\n",
       "<table border=\"1\" class=\"dataframe\">\n",
       "  <thead>\n",
       "    <tr style=\"text-align: right;\">\n",
       "      <th></th>\n",
       "      <th>0</th>\n",
       "    </tr>\n",
       "  </thead>\n",
       "  <tbody>\n",
       "    <tr>\n",
       "      <th>0</th>\n",
       "      <td>13790.67500</td>\n",
       "    </tr>\n",
       "    <tr>\n",
       "      <th>1</th>\n",
       "      <td>19695.79250</td>\n",
       "    </tr>\n",
       "    <tr>\n",
       "      <th>2</th>\n",
       "      <td>28926.65750</td>\n",
       "    </tr>\n",
       "    <tr>\n",
       "      <th>3</th>\n",
       "      <td>33100.89500</td>\n",
       "    </tr>\n",
       "    <tr>\n",
       "      <th>4</th>\n",
       "      <td>45147.96500</td>\n",
       "    </tr>\n",
       "    <tr>\n",
       "      <th>5</th>\n",
       "      <td>58745.58750</td>\n",
       "    </tr>\n",
       "    <tr>\n",
       "      <th>6</th>\n",
       "      <td>57694.21750</td>\n",
       "    </tr>\n",
       "    <tr>\n",
       "      <th>7</th>\n",
       "      <td>37248.60750</td>\n",
       "    </tr>\n",
       "    <tr>\n",
       "      <th>8</th>\n",
       "      <td>35043.71000</td>\n",
       "    </tr>\n",
       "    <tr>\n",
       "      <th>9</th>\n",
       "      <td>41460.99000</td>\n",
       "    </tr>\n",
       "    <tr>\n",
       "      <th>10</th>\n",
       "      <td>47099.40125</td>\n",
       "    </tr>\n",
       "    <tr>\n",
       "      <th>11</th>\n",
       "      <td>45930.40750</td>\n",
       "    </tr>\n",
       "  </tbody>\n",
       "</table>\n",
       "</div>"
      ],
      "text/plain": [
       "              0\n",
       "0   13790.67500\n",
       "1   19695.79250\n",
       "2   28926.65750\n",
       "3   33100.89500\n",
       "4   45147.96500\n",
       "5   58745.58750\n",
       "6   57694.21750\n",
       "7   37248.60750\n",
       "8   35043.71000\n",
       "9   41460.99000\n",
       "10  47099.40125\n",
       "11  45930.40750"
      ]
     },
     "metadata": {},
     "execution_count": 252
    }
   ],
   "metadata": {}
  },
  {
   "cell_type": "code",
   "execution_count": 253,
   "source": [
    "X_val"
   ],
   "outputs": [
    {
     "output_type": "execute_result",
     "data": {
      "text/plain": [
       "array([[[0.63685407],\n",
       "        [1.        ]],\n",
       "\n",
       "       [[1.        ],\n",
       "        [1.56766882]],\n",
       "\n",
       "       [[1.56766882],\n",
       "        [1.82437114]],\n",
       "\n",
       "       [[1.82437114],\n",
       "        [2.5652276 ]],\n",
       "\n",
       "       [[2.5652276 ],\n",
       "        [3.40143811]],\n",
       "\n",
       "       [[3.40143811],\n",
       "        [3.3367822 ]],\n",
       "\n",
       "       [[3.3367822 ],\n",
       "        [2.07944226]],\n",
       "\n",
       "       [[2.07944226],\n",
       "        [1.94384808]],\n",
       "\n",
       "       [[1.94384808],\n",
       "        [2.33849038]],\n",
       "\n",
       "       [[2.33849038],\n",
       "        [2.68523472]]])"
      ]
     },
     "metadata": {},
     "execution_count": 253
    }
   ],
   "metadata": {}
  },
  {
   "cell_type": "code",
   "execution_count": 254,
   "source": [
    "val_inputs"
   ],
   "outputs": [
    {
     "output_type": "execute_result",
     "data": {
      "text/plain": [
       "array([[0.63685407],\n",
       "       [1.        ],\n",
       "       [1.56766882],\n",
       "       [1.82437114],\n",
       "       [2.5652276 ],\n",
       "       [3.40143811],\n",
       "       [3.3367822 ],\n",
       "       [2.07944226],\n",
       "       [1.94384808],\n",
       "       [2.33849038],\n",
       "       [2.68523472],\n",
       "       [2.61334533]])"
      ]
     },
     "metadata": {},
     "execution_count": 254
    }
   ],
   "metadata": {}
  },
  {
   "cell_type": "code",
   "execution_count": null,
   "source": [],
   "outputs": [],
   "metadata": {}
  }
 ],
 "metadata": {
  "orig_nbformat": 4,
  "language_info": {
   "name": "python",
   "version": "3.8.5",
   "mimetype": "text/x-python",
   "codemirror_mode": {
    "name": "ipython",
    "version": 3
   },
   "pygments_lexer": "ipython3",
   "nbconvert_exporter": "python",
   "file_extension": ".py"
  },
  "kernelspec": {
   "name": "python3",
   "display_name": "Python 3.8.5 64-bit ('base': conda)"
  },
  "interpreter": {
   "hash": "7b4b4feff2f24a0f0a34464dbe537a36fda679851528fb8735cb41fa49dffb2d"
  }
 },
 "nbformat": 4,
 "nbformat_minor": 2
}